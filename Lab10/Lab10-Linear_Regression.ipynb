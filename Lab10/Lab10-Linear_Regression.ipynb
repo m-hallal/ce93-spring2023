{
 "cells": [
  {
   "cell_type": "markdown",
   "id": "moderate-invention",
   "metadata": {},
   "source": [
    "# CE 93: Engineering Data Analysis\n",
    "# LAB 10 Linear Regression"
   ]
  },
  {
   "cell_type": "markdown",
   "id": "italian-shooting",
   "metadata": {},
   "source": [
    "**Full Name:** *replace text here*"
   ]
  },
  {
   "cell_type": "markdown",
   "id": "prerequisite-person",
   "metadata": {},
   "source": [
    "## Instructions \n",
    "\n",
    "Welcome to Lab 10! \n",
    "\n",
    "Please save your work after every question! At the end, you will have to submit your Jupyter Notebook as a PDF file in the bCourses quiz. The notebook should be consistent with your quiz answers. Not submitting a PDF file will result in a grade of 0 on the lab assignment. You will also receive a 0 if your answers to the quiz are inconsistent with your PDF.\n",
    "\n",
    "If you see cells with \"...\" make sure to replace the \"...\" with your code even if they are not listed with a \"Question\". \n",
    "Please remember to label all axes with the quantity and units being plotted. \n",
    "\n",
    "Any part listed as a \"<font color='red'>**Question**</font>\" should be answered in the bCourses quiz to receive credit."
   ]
  },
  {
   "cell_type": "markdown",
   "id": "5f026ba8",
   "metadata": {},
   "source": [
    "We will use the following Python packages:\n",
    "\n",
    "* NumPy\n",
    "* MatPlotLib\n",
    "* pandas\n",
    "* sklearn.linear_model\n",
    "* statsmodels.api\n",
    "* random"
   ]
  },
  {
   "cell_type": "markdown",
   "id": "c6f67203",
   "metadata": {},
   "source": [
    "## Load the required libraries \n",
    "\n",
    "The following code loads the required libraries. Run this cell first."
   ]
  },
  {
   "cell_type": "code",
   "execution_count": null,
   "id": "tired-christian",
   "metadata": {},
   "outputs": [],
   "source": [
    "# import python library / packages \n",
    "import numpy as np                                 # ndarrays for gridded data\n",
    "import matplotlib.pyplot as plt                    # plotting\n",
    "import pandas as pd                                # DataFrames for tabular data\n",
    "from sklearn.linear_model import LinearRegression  # linear regression\n",
    "import statsmodels.api as sm                       # linear regression\n",
    "import random                                      # select random sample"
   ]
  },
  {
   "cell_type": "markdown",
   "id": "geographic-violin",
   "metadata": {},
   "source": [
    "## About Lab 10\n",
    "\n",
    "In this lab, we will learn how to use `Python` to perform linear regression. We will work with on-time performance of domestic flights in the U.S. You will be asked to build, fit, and evaluate the model(s) that help us better understand the data, more specifically, draw inferences about the relationships of the variables.\n",
    "\n",
    "On-time performance (OTP) is a measure of the ability of transport services to be on time. Airlines’ on-time performance is closely monitored. In the U.S., a flight is considered as delayed if it arrives at the destination gate 15 minutes or more after its scheduled arrival time. The major U.S. airlines (United, Delta, American, and Southwest) had OTPs between 85$-$75% in 2022. (Who had the lowest OTP among these airlines? You guessed it; starts with S). \n",
    "\n",
    "Flight delay can be caused by several reasons, such as bad weather, airport congestion, airspace congestion, and lower cruising speed due to high fuel costs. In return, delay can increase operation cost, passenger delay cost and fuel cost. It would be helpful if we could predict our flight time to help set the schedule and reduce delays as much as possible.\n",
    "\n",
    "In this lab, you will analyze how the different factors affect the airborne time (i.e. time between an aircraft taking off from departure airport and landing on arrival airport). You will be asked to build a model to estimate the actual airborne time for a given flight based on historical data."
   ]
  },
  {
   "cell_type": "markdown",
   "id": "06be2cac",
   "metadata": {},
   "source": [
    "## Flight Performance Data\n",
    "\n",
    "The dataset you will be using to analyze on-time performance is named \"**flight_performance.csv**\".\n",
    "    \n",
    "Let's load the provided data set `flight_performance.csv`. \n",
    "\n",
    "* load using the Pandas `read_csv()` function\n",
    "\n",
    "This dataset has been truncated and edited based on Airline Service Quality Performance (ASQP) and Aviation System Performance Metrics (ASPM) from the Federal Aviation Administration. It includes a sample of domestic flights across top 30 airports in the US in 2016. The variable names and their definitions are provided in the following table.\n",
    "\n",
    "|Variable|Units|Explanation|\n",
    "|:-|:-|:-|\n",
    "|A_air|min|time between taking off and landing for a flight|\n",
    "|DELAY|min|time spent before taking off (gate delay, taxi time, etc.)|\n",
    "|GCD|mile|great circle distance between departure airport and arrival airport|\n",
    "|HeadingDegree|degree|longitude of arrival airport $-$ longitude of departure airport|\n",
    "|Dep_Hub|binary|=1 if departure airport is the hub airport for the flight airline; =0 otherwise|\n",
    "|Arr_Hub|binary|=1 if arrival airport is the hub airport for the flight airline; =0 otherwise|\n",
    "|Weekday|binary|=1 if flight is on a weekday; =0 otherwise|\n",
    "|Spring|binary|=1 if flight is during Spring; =0 otherwise|\n",
    "|Summer|binary|=1 if flight is during Summer; =0 otherwise|\n",
    "|Fall|binary|=1 if flight is during Fall; =0 otherwise|\n",
    "|Winter|binary|=1 if flight is during Winter; =0 otherwise|\n",
    "|Dep_congestion|unitless|=(actual operations)/(capacity operations at departure airport)|\n",
    "|Arr_congestion|unitless|=(actual operations)/(capacity operations at arrival airport)|\n",
    "\n",
    "You will only work with a few variables in this lab."
   ]
  },
  {
   "cell_type": "code",
   "execution_count": null,
   "id": "54defeb7",
   "metadata": {},
   "outputs": [],
   "source": [
    "# edit the code cell below to read the .csv file and print the first few rows of the data set. \n",
    "# If you do not know how to do this, refer to previous labs\n",
    "\n",
    "# read a .csv file in as a DataFrame\n",
    "df = ...\n",
    "\n",
    "# return the first 5 rows of the data set by default\n",
    "..."
   ]
  },
  {
   "cell_type": "markdown",
   "id": "accepted-tribune",
   "metadata": {},
   "source": [
    "## Relationship between A_air and GCD\n",
    "\n",
    "In this part, you will fit a model that draws inference about the relationship between the actual airborne time (`A_air`) and the distance between the departure airport and the arrival airport (`GCD`).\n",
    "\n",
    "Before we do that, we will first explore our data.\n",
    "\n",
    "### Data Exploration\n",
    "\n",
    "We want to generate data vectors for `A_air` and `GCD` (easier to work with a data vector than a DataFrame). Add your code below to take the relevant columns from the DataFrame you loaded above and save them as `travel_time` and `travel_distance`.\n",
    "\n",
    "<font color='red'>**Question 1.**</font> Create a scatter plot of `travel_time` against `travel_distance` (y against x). What observations can you make based on the scatter plot? Select your answer(s) from the options in bCourses.\n",
    "\n",
    "* The units for each variable are listed in the table above\n",
    "* You can read about the parameters of `plt.scatter()` [here](https://matplotlib.org/stable/api/_as_gen/matplotlib.pyplot.scatter.html)\n",
    "* To control the size of the markers, you can specify `plt.scatter(x,y,s=...)`"
   ]
  },
  {
   "cell_type": "code",
   "execution_count": null,
   "id": "5233ba32",
   "metadata": {},
   "outputs": [],
   "source": [
    "# create variables\n",
    "# replace ... with your code\n",
    "travel_time = ...\n",
    "travel_distance = ...\n",
    "\n",
    "# create scatter plot\n",
    "..."
   ]
  },
  {
   "cell_type": "markdown",
   "id": "0d76c278",
   "metadata": {},
   "source": [
    "### Linear Regression Using `scikit-learn`\n",
    "\n",
    "We will use the `scikit-learn` package to perform linear regression. There are other packages as well, but this is one of the most commonly used packages and is also a widely used Python library for machine learning, built on top of NumPy and some other packages. You will specifically use the class `sklearn.linear_model.LinearRegression` to perform linear regression. You already loaded this class in the first code cell.\n",
    "\n",
    "Before we apply linear regression, we must have our data sets in the correct format. Specifically, you must:\n",
    "1. Convert the data sets from pandas to numpy array\n",
    "2. Format the `x` variable such that it is two-dimensional, or more precisely, it must have one column and many rows\n",
    "\n",
    "Run the code cell below to properly format the data sets for regression."
   ]
  },
  {
   "cell_type": "code",
   "execution_count": null,
   "id": "dfc8fe24",
   "metadata": {},
   "outputs": [],
   "source": [
    "# Format the data sets\n",
    "travel_time = np.array(travel_time) # convert from pandas to numpy array\n",
    "travel_distance = np.array(travel_distance) # convert from pandas to numpy array\n",
    "\n",
    "travel_distance = travel_distance.reshape(-1, 1) # format the x variable such that it is two-dimensional with 1 column\n",
    "\n",
    "# Output the arrays\n",
    "print('Travel Distance: shape '+ str(travel_distance.shape))\n",
    "print(travel_distance)\n",
    "\n",
    "print('\\n\\n Travel Time: shape '+ str(travel_time.shape))\n",
    "print(travel_time)"
   ]
  },
  {
   "cell_type": "markdown",
   "id": "979c13c2",
   "metadata": {},
   "source": [
    "As evident, `travel_distance` has two dimensions: shape (18936, 1), while `travel_distance` has a single dimension: shape (18936, ).\n",
    "\n",
    "The next step is to create a linear regression model and fit it using the existing data. The statement below creates the variable `model` as an instance of `LinearRegression`, which will represent the regression model.\n",
    "\n",
    "Run the code cell below to create the variable `model`."
   ]
  },
  {
   "cell_type": "code",
   "execution_count": null,
   "id": "f9708e14",
   "metadata": {},
   "outputs": [],
   "source": [
    "# Create the variable model\n",
    "\n",
    "model = LinearRegression()"
   ]
  },
  {
   "cell_type": "markdown",
   "id": "9d4db71a",
   "metadata": {},
   "source": [
    "It's time to fit a linear regression model to the data. We would like to create the following model:\n",
    "\n",
    "$$\\text{travel_time} = \\beta_0 + \\beta_1 \\text{travel_distance}$$\n",
    "\n",
    "This can be done using the variable `model` that you defined in the code cell above. Specifically, `model.fit(x,y)` will calculate the optimal estimates $\\hat{\\beta_0}$ and $\\hat{\\beta_1}$ that result in a regression line that is closer to the data than any other line.\n",
    "\n",
    "Since we will create several models, let's save this one as `model1`.\n",
    "\n",
    "Run the code below to perform a linear regression between `travel_distance` and `travel_time`. Note that the order of the variables in `model.fit()` is important. The first variable should be the independent variable `x` and the second one should be the dependent variable `y`.\n",
    "\n",
    "The code cell below will not print any output. We will see how to get the outputs next."
   ]
  },
  {
   "cell_type": "code",
   "execution_count": null,
   "id": "3ecb9d72",
   "metadata": {},
   "outputs": [],
   "source": [
    "# fit your model here\n",
    "\n",
    "model1 = model.fit(travel_distance, travel_time)"
   ]
  },
  {
   "cell_type": "markdown",
   "id": "2f95e038",
   "metadata": {},
   "source": [
    "Once you have your fitted model, you can get the results to check whether the model is satisfactory.\n",
    "\n",
    "You can obtain the following:\n",
    "* Estimated intercept $\\hat{\\beta_0}$ using `model1.intercept_`\n",
    "* Estimated slope $\\hat{\\beta_1}$ using `model1.coef_[0]`\n",
    "\n",
    "<font color='red'>**Question 2.**</font> What is the equation of the regression line between `travel_time` and `travel_distance`? Select your answer from the options in bCourses.\n",
    "\n",
    "<font color='red'>**Question 3.**</font> What does the estimated slope $\\hat{\\beta_1}$  represent in this case? Select your answer(s) from the options in bCourses."
   ]
  },
  {
   "cell_type": "code",
   "execution_count": null,
   "id": "1de3e5a7",
   "metadata": {},
   "outputs": [],
   "source": [
    "# Get the regression coefficients\n",
    "\n",
    "..."
   ]
  },
  {
   "cell_type": "markdown",
   "id": "472cb219",
   "metadata": {},
   "source": [
    "Once you have a model, then you can use it for predictions with either existing or new data. In the code cell below:\n",
    "* Obtain the estimated/fitted travel time using the existing `x` values: `model1.predict(travel_distance)`. Save this as `travel_time_pred`.\n",
    "* Create a scatter plot of the original data sets\n",
    "* In the same scatter plot, plot the regression line using the estimated/fitted travel time. Show the regression line using **red**.\n",
    "\n",
    "Make sure you label the axes correctly. Also, add a title. After generating the plot, right click on it and click 'Save image as' to download your figure as an image.\n",
    "\n",
    "<font color='red'>**Question 4.**</font> Upload your figure to bCourses using the instructions there."
   ]
  },
  {
   "cell_type": "code",
   "execution_count": null,
   "id": "aac97ac4",
   "metadata": {},
   "outputs": [],
   "source": [
    "# replace ... with your code\n",
    "\n",
    "# get the estimated response using the existing data\n",
    "travel_time_pred = ...\n",
    "\n",
    "# create scatter plot with regression line\n",
    "..."
   ]
  },
  {
   "cell_type": "markdown",
   "id": "494b3df8",
   "metadata": {},
   "source": [
    "### Goodness of Fit\n",
    "\n",
    "Now let's evaluate how good is the fit of the linear regression model to the data. In the lecture, we defined the Sum Squared Error (SSE) as:\n",
    "\n",
    "$$SSE=\\sum_i e_i^2 = \\sum_i (y_i - \\hat{y_i})^2 $$\n",
    "where:\n",
    "* $y_i$ are the actual observed values (saved as `travel_time`)\n",
    "* $\\hat{y_i}$ are the estimated/fitted values (you should have already computed these above: `travel_time_pred`)\n",
    "\n",
    "Using the SSE, we can get the Mean Squared Error (MSE):\n",
    "\n",
    "$$MSE=\\frac{SSE}{n-2}$$\n",
    "where:\n",
    "* $n$ is the number of observations in the data set. You can obtain this using `len(travel_time)`.\n",
    "\n",
    "<font color='red'>**Question 5.**</font> Calculate the MSE for the regression line. Round your answer to the nearest integer and add it in bCourses."
   ]
  },
  {
   "cell_type": "code",
   "execution_count": null,
   "id": "349182fd",
   "metadata": {},
   "outputs": [],
   "source": [
    "# add your code below\n",
    "\n",
    "..."
   ]
  },
  {
   "cell_type": "markdown",
   "id": "075cc88a",
   "metadata": {},
   "source": [
    "Using the SSE, we can calculate the coefficient of determination, $r^2$, as:\n",
    "\n",
    "$$r^2 = 1-\\frac{SSE}{SST}$$\n",
    "where:\n",
    "* SST is the total variation in the model\n",
    "$$SST= \\sum_i (y_i - \\overline{y})^2 $$\n",
    "\n",
    "where:\n",
    "* $\\overline{y}$ is the mean of the `y` observations (i.e., mean of `travel_time`)\n",
    "\n",
    "<font color='red'>**Question 6.**</font> Calculate the coefficient of determination, $r^2$ using the above equation. Round your answer to three digits after the decimal point and add it in bCourses.\n",
    "\n",
    "*You already computed SSE. So, compute SST and then use it to calculate $r^2$. You will need to compute the mean of the y values to get SST.*"
   ]
  },
  {
   "cell_type": "code",
   "execution_count": null,
   "id": "bcdfaee7",
   "metadata": {},
   "outputs": [],
   "source": [
    "# add your code below\n",
    "\n",
    "..."
   ]
  },
  {
   "cell_type": "markdown",
   "id": "8b4c2618",
   "metadata": {},
   "source": [
    "Python has direct functions to compute SSE, MSE, $r^2$, etc. For example, you can directly compute $r^2$ using:\n",
    "* model.score(x, y)\n",
    "\n",
    "Using `model.score()`, compute the $r^2$ of the regression line. The output should exactly match your answer to Question 6.\n",
    "\n",
    "<font color='red'>**Question 7.**</font> What can you say based on the value of $r^2$? Select your answer(s) from the options in bCourses."
   ]
  },
  {
   "cell_type": "code",
   "execution_count": null,
   "id": "0e70ab0a",
   "metadata": {},
   "outputs": [],
   "source": [
    "# calculate r^2 using Python functions\n",
    "\n",
    "..."
   ]
  },
  {
   "cell_type": "markdown",
   "id": "4d429056",
   "metadata": {},
   "source": [
    "### Diagnostics\n",
    "\n",
    "The last step is to check the assumptions of our model. Recall that linear regression is based on the following assumptions:\n",
    "\n",
    "1. Linear relationship between X and Y\n",
    "2. Independent error terms (and therefore, independent observations)\n",
    "3. Normally distributed error terms\n",
    "4. Equal variance of the error terms along regression line\n",
    "\n",
    "If the model is appropriate for the data, the observed residuals should reflect these properties. Recall that the residuals are the actual values - the fitted values:\n",
    "\n",
    "$$e_i = y_i - \\hat{y_i}$$\n",
    "\n",
    "* You should have already computed the fitted values and saved them as `travel_time_pred`\n",
    "\n",
    "In the code cell below, compute the residuals."
   ]
  },
  {
   "cell_type": "code",
   "execution_count": null,
   "id": "bc512638",
   "metadata": {},
   "outputs": [],
   "source": [
    "# Add your code below\n",
    "\n",
    "..."
   ]
  },
  {
   "cell_type": "markdown",
   "id": "461b9e3f",
   "metadata": {},
   "source": [
    "Assumptions 1, 2, and 4 can be checked by plotting the residuals against the x values or the fitted values. In the code cell below:\n",
    "\n",
    "1. Plot the residuals against the fitted values `travel_time_pred`\n",
    "3. Plot a horizontal line corresponding to residual of 0 using `plt.axhline(y=0, color='gray')`\n",
    "\n",
    "Assumption 3 can be checked by plotting a histogram of the residuals. You can plot a theoretical normal pdf along with the histogram, or simply visually assess whether the distribution of the residuals appears to have a bell-curve shape. You can also plot a Q-Q plot of the residuals. However, we will only focus on plotting a histogram in this case. In the code cell below:\n",
    "\n",
    "1. Plot a histogram of the residuals\n",
    "\n",
    "<font color='red'>**Question 8.**</font> Which assumption(s) appear(s) to be violated, if any, based on your plots. Select your answer(s) from the options in bCourses."
   ]
  },
  {
   "cell_type": "code",
   "execution_count": null,
   "id": "5a27240e",
   "metadata": {},
   "outputs": [],
   "source": [
    "# Add your code below\n",
    "\n",
    "..."
   ]
  },
  {
   "cell_type": "markdown",
   "id": "f697c1aa",
   "metadata": {},
   "source": [
    "### Linear Regression Using `statsmodels`\n",
    "\n",
    "Everything you did above was based on the `scikit-learn` package. As previsouly mentioned, there are other packages as well. So next, we will perform linear regression using `statsmodels`. You will specifically use the class `statsmodels.api.sm` to perform linear regression. You already loaded this class in the first code cell.\n",
    "\n",
    "When using `statsmodels.api.sm`, an intercept is not included by default $($i.e., $\\beta_0=0)$. If you want to include an intercept in the model you should modify the input `x`. For example, if you are trying to perform a linear regression between `x` and `y`, you should follow these steps:\n",
    "1. `x2 = sm.add_constant(x) # to include intercept in regression`\n",
    "2. `model2 = sm.OLS(y,x2)`\n",
    "3. `model2.summary()`\n",
    "\n",
    "**Note that when using `sm.OLS()`, the first variable should be the dependent variable `y` and the second variable should be the independent variable `x`. Previously, when using `scikit-learn`, the order of the variables was reversed.**\n",
    "\n",
    "`model2.summary()` returns a full summary of the regression. To get specific summaries, you can use:\n",
    "* `model2.params`: this returns the estimated coefficients\n",
    "* `model2.rsquared`: this returns the coefficient of determination \n",
    "* `model2.mse_resid`: this returns the MSE\n",
    "* `model2.bse`: this returns the standard errors of the estimated coefficients (i.e., standard deviations of the estimates $\\hat{\\beta_0}$ and $\\hat{\\beta_1}$)\n",
    "* `model2.pvalues`: this returns the $p$-values for testing whether the parameters are equal to 0 or different from 0\n",
    "\n",
    "Run the code cell below to perform linear regression using the class `statsmodels.api.sm`. Read the summary output and compare it to your previous answers. You can also use the attributes above (`model2.params`, `model2.rsquared`, etc.) to check specific output.\n",
    "\n",
    "You don't have to answer any questions. However, read and understand the code below. You will use `statsmodels.api.sm` to perform regression in the remaining part of the lab."
   ]
  },
  {
   "cell_type": "code",
   "execution_count": null,
   "id": "05c0ab7b",
   "metadata": {},
   "outputs": [],
   "source": [
    "# Linear regression using `statsmodels.api.sm`\n",
    "\n",
    "# to include intercept in regression\n",
    "travel_distance2 = sm.add_constant(travel_distance)\n",
    "\n",
    "# run regression\n",
    "model2 = sm.OLS(travel_time, travel_distance2).fit()\n",
    "\n",
    "# output an overall summary\n",
    "model2.summary()"
   ]
  },
  {
   "cell_type": "markdown",
   "id": "78ce6094",
   "metadata": {},
   "source": [
    "## Relationship between A_air and HeadingDegree"
   ]
  },
  {
   "cell_type": "markdown",
   "id": "f8e0f0ca",
   "metadata": {},
   "source": [
    "In this part, you will fit a model that draws inference about the relationship between the actual airborne time (`A_air`) and the heading degree, which is the longitude of arrival airport − longitude of departure airport (saved as `HeadingDegree` in the DataFrame).\n",
    "\n",
    "Before we do that, we will first explore our data.\n",
    "\n",
    "### Data Exploration\n",
    "\n",
    "You already generated a data vector for `A_air` (saved as `travel_time`). Add your code below to take the relevant column for `HeadingDegree` from the DataFrame you loaded above and save it as `degree`.\n",
    "\n",
    "<font color='red'>**Question 9.**</font>  Create a scatter plot of `travel_time` against `degree` (y against x). What observations can you make based on the scatter plot? Select your answer(s) from the options in bCourses."
   ]
  },
  {
   "cell_type": "code",
   "execution_count": null,
   "id": "ce5a9f24",
   "metadata": {},
   "outputs": [],
   "source": [
    "# create variables\n",
    "# replace ... with your code\n",
    "\n",
    "degree = ...\n",
    "\n",
    "# create scatter plot\n",
    "..."
   ]
  },
  {
   "cell_type": "markdown",
   "id": "25e53426",
   "metadata": {},
   "source": [
    "### Data Transformation 1\n",
    "\n",
    "In the code cell below, create a new variable which is simply the square of `degree`. Save it as `degree_squared`.\n",
    "\n",
    "Create a scatter plot of `travel_time` against `degree_squared` (y against x). What observations can you make based on the scatter plot? Just think of the answer. You don't have to answer any questions."
   ]
  },
  {
   "cell_type": "code",
   "execution_count": null,
   "id": "cd5ecce6",
   "metadata": {},
   "outputs": [],
   "source": [
    "# create variables\n",
    "# replace ... with your code\n",
    "\n",
    "degree_squared = ...\n",
    "\n",
    "# create scatter plot\n",
    "..."
   ]
  },
  {
   "cell_type": "markdown",
   "id": "b8b37348",
   "metadata": {},
   "source": [
    "In the lecture, we discussed how we can still apply linear regression on transformed data. So, next, we will apply linear regression between `travel_time` and  `degree_squared`.\n",
    "\n",
    "**Model 3:** $Y = \\beta_0 + \\beta_1 X^2$\n",
    "\n",
    "Run a linear regression to predict `travel_time` as a function of `degree_squared` using `sm.OLS()`. Name this model as `model3`. Don't forget to include an intercept in your model by using:\n",
    "* `x2 = sm.add_constant(x) # to include intercept in regression`\n",
    "\n",
    "where `x` will be the independent variable you are using\n",
    "\n",
    "<font color='red'>**Question 10.**</font> What is the coefficient of determination, $r^2$, for this regression? Round your answer to three digits after the decimal point and add it in bCourses.\n",
    "\n",
    "*You can use the attributes  (`.params`, `.rsquared`, etc.) to check specific outputs of the regression.*"
   ]
  },
  {
   "cell_type": "code",
   "execution_count": null,
   "id": "75264b5f",
   "metadata": {},
   "outputs": [],
   "source": [
    "# Add your code below\n",
    "\n",
    "..."
   ]
  },
  {
   "cell_type": "markdown",
   "id": "66fbc1e3",
   "metadata": {},
   "source": [
    "### Data Transformation 2\n",
    "\n",
    "We will next apply a second data transformation to see which data transformation gives us a better fit to the data.\n",
    "\n",
    "In the code cell below, create a new variable which is simply the absolute value of `degree`. Save it as `degree_abs`.\n",
    "* you can use `np.abs()` to take the absolute value\n",
    "\n",
    "Create a scatter plot of `travel_time` against `degree_abs` (y against x). What observations can you make based on the scatter plot? Just think of the answer. You don't have to answer any questions."
   ]
  },
  {
   "cell_type": "code",
   "execution_count": null,
   "id": "71ec594a",
   "metadata": {},
   "outputs": [],
   "source": [
    "# create variables\n",
    "# replace ... with your code\n",
    "\n",
    "degree_abs = ...\n",
    "\n",
    "# create scatter plot\n",
    "..."
   ]
  },
  {
   "cell_type": "markdown",
   "id": "2935faae",
   "metadata": {},
   "source": [
    "Run a linear regression to predict `travel_time` as a function of `degree_abs` using `sm.OLS()`. Name this model as `model4`.\n",
    "\n",
    "**Model 4:** $Y = \\beta_0 + \\beta_1 |X|$\n",
    "\n",
    "Don't forget to include an intercept in your model by using.\n",
    "* `x2 = sm.add_constant(x) # to include intercept in regression`\n",
    "    \n",
    "where `x` will be the independent variable you are using\n",
    "\n",
    "<font color='red'>**Question 11.**</font> What is the coefficient of determination, $r^2$, for this regression? Round your answer to three digits after the decimal point and add it in bCourses.\n",
    "\n",
    "*You can use the attributes  (`.params`, `.rsquared`, etc.) to check specific outputs of the regression.*"
   ]
  },
  {
   "cell_type": "code",
   "execution_count": null,
   "id": "0c475716",
   "metadata": {},
   "outputs": [],
   "source": [
    "# Add your code below\n",
    "\n",
    "..."
   ]
  },
  {
   "cell_type": "markdown",
   "id": "fe96ee77",
   "metadata": {},
   "source": [
    "Now we want to compare the performance of the two models (squaring X versus taking the absolute value of X).\n",
    "\n",
    "<font color='red'>**Question 12.**</font> Which of the two models is better at describing the relationship between travel time and heading degree? Select your answer(s) from the options in bCourses."
   ]
  },
  {
   "cell_type": "markdown",
   "id": "a20ec73a",
   "metadata": {},
   "source": [
    "## Relationship between DELAY and Dep_congestion\n",
    "\n",
    "In this last part, you will investigate whether there is an association between time spent before taking off (gate delay, taxi time, etc.), `DELAY`, and the congestion ratio at the departure airport, `Dep_congestion`. It is reasonable to expect that if the departure airport is congested and operating close or at its capacity, this will cause delays in the departure. So we will investigate if this association actually exists.\n",
    "\n",
    "If there is no association between `DELAY` and `Dep_congestion`, then $\\beta_1$ in the equation below should be 0:\n",
    "\n",
    "$$\\text{DELAY} = \\beta_0+\\beta_1\\times \\text{Dep_congestion}$$\n",
    "\n",
    "So, our hypotheses are:\n",
    "\n",
    "**$H_0: \\beta_1 = 0$** (no relationship)\n",
    "\n",
    "**$H_1: \\beta_1 \\neq 0$**\n",
    "\n",
    "Using `sm.OLS()`, we can obtain the test statistic, $p$-value, as well as the confidence interval for $\\beta_1$ based on our sample. So, let's run a regression between `DELAY` and `Dep_congestion`.\n",
    "\n",
    "Add your code below to take the relevant columns for `DELAY` and `Dep_congestion` from the DataFrame you loaded above and save them as `delay` and `cong`, respectively."
   ]
  },
  {
   "cell_type": "code",
   "execution_count": null,
   "id": "b5a75e9c",
   "metadata": {},
   "outputs": [],
   "source": [
    "# create variables\n",
    "# replace ... with your code\n",
    "\n",
    "delay = ...\n",
    "cong = ..."
   ]
  },
  {
   "cell_type": "markdown",
   "id": "639a66a6",
   "metadata": {},
   "source": [
    "Rather than working with the full data set, we will select a random sample of size 50 and run the hypothesis test using the sample. Run the code cell below, which selects a random sample from `delay` and `cong`  and saves them as `delay_sample` and `cong_sample`."
   ]
  },
  {
   "cell_type": "code",
   "execution_count": null,
   "id": "2f211e18",
   "metadata": {},
   "outputs": [],
   "source": [
    "# sepcify random seed\n",
    "random.seed(93)\n",
    "\n",
    "# select 50 random indices\n",
    "sample_indices = random.choices(range(len(delay)), k=50)\n",
    "\n",
    "# select the random samples\n",
    "delay_sample = delay[sample_indices]\n",
    "cong_sample = cong[sample_indices]"
   ]
  },
  {
   "cell_type": "markdown",
   "id": "f0971ea4",
   "metadata": {},
   "source": [
    "Run a linear regression to predict `delay` as a function of  `cong` using `sm.OLS()`. Name this model as `model5`.\n",
    "\n",
    "**Model 5:** $Y = \\beta_0 + \\beta_1 X$\n",
    "\n",
    "Don't forget to include an intercept in your model by using.\n",
    "* `x2 = sm.add_constant(x) # to include intercept in regression`\n",
    "    \n",
    "where `x` will be the independent variable you are using\n",
    "\n",
    "**Also, perform the regression using `delay_sample` and `cong_sample`.**"
   ]
  },
  {
   "cell_type": "code",
   "execution_count": null,
   "id": "24880c7e",
   "metadata": {},
   "outputs": [],
   "source": [
    "# Add your code below\n",
    "\n",
    "..."
   ]
  },
  {
   "cell_type": "markdown",
   "id": "d67c5985",
   "metadata": {},
   "source": [
    "As previously mentioned, `sm.OLS()` computes the test statistic, $p$-value, as well as the confidence interval for $\\beta_1$ based on our sample.\n",
    "\n",
    "To view these outputs, run `model5.summary()` in the code cell below, which returns a full summary of the regression. \n",
    "\n",
    "In the output table, search for the row corresponding to `Dep_congestion` (should be 12th row in the summary table). \n",
    "* The first value in that row under `coef` is the estimated slope $\\hat{\\beta_1}$ (look at the row corresponding to `Dep_congestion` and NOT `const`).\n",
    "* The second value in that row under `std error` is the standard deviation in $\\hat{\\beta_1}$. \n",
    "* The third value in that row under `t` is the $t$-statistic corresponding to the hypothesis test.\n",
    "* The fourth value in that row under `P>|t|` is the $p$-value corresponding to the hypothesis test.\n",
    "* The fifth and sixth values in that row under `[0.025\t0.975]` are the lower and upper values of the 95% confidence interval on $\\beta_1$.\n",
    "\n",
    "<font color='red'>**Question 13.**</font> Based on the regression output, does there appear to be an association between departure delay and the congestion ratio at the departure airport? Use a 0.05 significance level. Select your answer(s) from the options in bCourses."
   ]
  },
  {
   "cell_type": "code",
   "execution_count": null,
   "id": "2c2533a1",
   "metadata": {},
   "outputs": [],
   "source": [
    "# Add your code below\n",
    "\n",
    "..."
   ]
  },
  {
   "cell_type": "markdown",
   "id": "supported-crown",
   "metadata": {},
   "source": [
    "## Submit your work!\n",
    "\n",
    "<font color='red'>**Question 14.** </font> Submit your PDF file.\n",
    "\n",
    "I recommend that you save your .ipynb file and keep a copy of it so that you can refer to it in the future (e.g., when working on the project). \n",
    "\n",
    "Once done with answering ALL questions and you are ready to submit the quiz, follow these steps:\n",
    "\n",
    "1. Run all cells in the notebook. You can do this by going to Cell > Run All. This makes sure that all your visuals and answers show up in the file you submit.\n",
    "\n",
    "2. Then, go to \"File > Download as > PDF via LaTex(.pdf)\" to generate a PDF file or PDF via HTML(.html). Name the PDF file with your last name \"Lastname.pdf\". Even if you click on PDF via HTML(.html), make sure that the downloaded file is '.pdf'.\n",
    "\n",
    "3. If you have trouble generating the PDF file from Jupyter notebook, use [datahub.berkeley.edu](http://datahub.berkeley.edu). Log in with your CalNet credentials. Upload the ipynb file with your outputs and results to Juptrer. Then follow step 2.\n",
    "\n",
    "4. Upload the PDF file to the bCourses quiz (more instructions there).\n",
    "\n",
    "\n",
    "**Not submitting a PDF file will result in a grade of 0 on this lab assignment.**\n",
    "**You will also receive a 0 if your answers to this quiz are inconsistent with your PDF.**"
   ]
  }
 ],
 "metadata": {
  "kernelspec": {
   "display_name": "Python 3 (ipykernel)",
   "language": "python",
   "name": "python3"
  },
  "language_info": {
   "codemirror_mode": {
    "name": "ipython",
    "version": 3
   },
   "file_extension": ".py",
   "mimetype": "text/x-python",
   "name": "python",
   "nbconvert_exporter": "python",
   "pygments_lexer": "ipython3",
   "version": "3.9.13"
  }
 },
 "nbformat": 4,
 "nbformat_minor": 5
}
