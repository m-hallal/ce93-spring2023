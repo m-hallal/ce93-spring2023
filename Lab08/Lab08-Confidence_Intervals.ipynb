{
 "cells": [
  {
   "cell_type": "markdown",
   "id": "8a19e938",
   "metadata": {},
   "source": [
    "# CE 93: Engineering Data Analysis\n",
    "# LAB 08 Confidence Intervals"
   ]
  },
  {
   "cell_type": "markdown",
   "id": "06ed0919",
   "metadata": {},
   "source": [
    "**Full Name:** *replace text here*"
   ]
  },
  {
   "cell_type": "markdown",
   "id": "43fa49ee",
   "metadata": {},
   "source": [
    "## Instructions \n",
    "\n",
    "Welcome to Lab 08! \n",
    "\n",
    "Please save your work after every question! At the end, you will have to submit your Jupyter Notebook as a PDF file in the bCourses quiz. The notebook should be consistent with your quiz answers. Not submitting a PDF file will result in a grade of 0 on the lab assignment. You will also receive a 0 if your answers to the quiz are inconsistent with your PDF.\n",
    "\n",
    "If you see cells with \"...\" make sure to replace the \"...\" with your code even if they are not listed with a \"Question\". \n",
    "Please remember to label all axes with the quantity and units being plotted. \n",
    "\n",
    "Any part listed as a \"<font color='red'>**Question**</font>\" should be answered in the bCourses quiz to receive credit."
   ]
  },
  {
   "cell_type": "markdown",
   "id": "13a68ec1",
   "metadata": {},
   "source": [
    "We will use the following Python packages:\n",
    "\n",
    "* NumPy\n",
    "* MatPlotLib\n",
    "* scipy.stats\n",
    "* pandas\n",
    "* random"
   ]
  },
  {
   "cell_type": "markdown",
   "id": "a504fbb3",
   "metadata": {},
   "source": [
    "## Load the required libraries \n",
    "\n",
    "The following code loads the required libraries. Run this cell first."
   ]
  },
  {
   "cell_type": "code",
   "execution_count": null,
   "id": "7bb8e295",
   "metadata": {},
   "outputs": [],
   "source": [
    "# import python library / packages \n",
    "import numpy as np                           # ndarrays for gridded data\n",
    "import matplotlib.pyplot as plt              # plotting\n",
    "from scipy.stats import *                    # common distributions\n",
    "import pandas as pd                          # DataFrames for tabular data\n",
    "import random                                # random sampling"
   ]
  },
  {
   "cell_type": "markdown",
   "id": "59e836d5",
   "metadata": {},
   "source": [
    "## About Lab 08\n",
    "\n",
    "In this lab, we will learn how to use `Python` to make interval estimates of distribution parameters based on observed data. For an unknown parameter $\\theta$, a point estimate $\\hat{\\theta}$ is a single-value estimate of the parameter, which can be obtained by the method of maximum likelihood, among others. \n",
    "\n",
    "An interval estimate of the parameter $\\theta$, which is usually denoted $(\\hat{\\theta}_{lower},\\hat{\\theta}_{upper})$, represents the interval within which the true value of the parameter lies with $(1-\\alpha)*100$% confidence. The most common value of $\\alpha$ is $0.05$, i.e., the interval is obtained for 95% confidence level. \n",
    "\n",
    "In the lecture, we saw that a two-sided confidence interval for the population mean can be given by the expression:\n",
    "\n",
    "$$\\overline{X} \\pm z_{\\alpha/2} * \\dfrac{\\sigma}{\\sqrt{n}}$$\n",
    "\n",
    "where $ \\overline{X}$ is the sample mean, $\\sigma$ is the population standard deviation, $n$ is the sample size, and $z_{\\alpha /2}$ is the multiplier corresponding to the critical values of a $z$-random variable. \n",
    "\n",
    "The above equation is only applicable when: (i) the underlying population is normal and the population standard deviation $\\sigma$ is known, or (ii) the sample size $n$ is large enough, even if the population standard deviation is unknown and the samples come from any distribution. In this case, the sample standard deviation $s$ is used instead of $\\sigma$.\n",
    "\n",
    "When the sample size $n$ is not large enough and the population standard deviation is unknown, student's $t$-distribution should be used. The $t$-distribution can be used only if the samples come from a normal distribution. In this case, a two-sided confidence interval for the population mean can be given by the expression:\n",
    "\n",
    "$$\\overline{X} \\pm t_{\\alpha/2, n-1} * \\dfrac{s}{\\sqrt{n}}$$\n",
    "\n",
    "The critical values ($z_{\\alpha/2}$ or $t_{\\alpha/2}$) can be easily found in `Python` using the `.ppf()` method of common distributions. For example, `norm.ppf(0.95)` returns $z_{0.05}$. In general, `norm.ppf(1-b)` returns $z_{b}$. If you are interested in a one-sided confidence interval, $b = \\alpha$. Otherwise, for a two-sided confidence interval, $b = \\alpha/2$.\n",
    "\n",
    "For the $t$-distribution, `t.ppf(1-b, df=n-1)` returns $t_{b, n-1}$. If you are interested in a one-sided confidence interval, $b = \\alpha$. Otherwise, for a two-sided confidence interval, $b = \\alpha/2$. Note that you have to specify the degrees of freedom `df` in this case, which is equal to the sample size minus one: $n-1$.\n",
    "\n",
    "<font color='red'>**Question 1.**</font> Using `Python`, find the critical value for each of the cases below. When appropriate, use the $z$-statistic. In all of these cases, assume the population standard deviation is unknown and that the samples come from a normal random variable. Add your answers in bCourses.\n",
    "\n",
    "1. The critical value for a sample size of 50 and a two-sided 95% confidence interval.\n",
    "2. The critical value for a sample size of 10 and a two-sided 95% confidence interval.\n",
    "3. The critical value for a sample size of 50 and a one-sided 95% confidence interval.\n",
    "4. The critical value for a sample size of 15 and a one-sided 95% confidence interval."
   ]
  },
  {
   "cell_type": "code",
   "execution_count": null,
   "id": "fea0fbc6",
   "metadata": {},
   "outputs": [],
   "source": [
    "# Add your code below\n",
    "\n",
    "..."
   ]
  },
  {
   "cell_type": "markdown",
   "id": "377eaa8d",
   "metadata": {},
   "source": [
    "## Monthly Average UV Irradiance\n",
    "\n",
    "We will work with monthly average UV irradiance $(mW/m^2)$ data set in California. The data were collected every month in California for the years 2005-2015 (source: https://ephtracking.cdc.gov/DataExplorer/#/).\n",
    "\n",
    "**UV irradiance** is the radiant power arriving at a surface per unit area. This is an important environmental factor that reflects exposure to sunlight and UV. This data set is measured at noon, when the dose of UV irradiance is usually highest. The data set represents environmental exposures per unit area and do not directly account for personal exposures at an individual level.\n",
    "\n",
    "Let's load the provided data set `UV_irradiance.csv`. It has three features:\n",
    "\n",
    "|Feature|Units|Description|\n",
    "|:-|:-|:-|\n",
    "|Year | N/A| The year in which the measurement was made|\n",
    "|Month | N/A| Numerical numbers corresponding to the month of the measurement|\n",
    "|Monthly average UV irradiance at noon| $$mW/m^2$$ | Average UV irradiance values for each month of a year in California|\n",
    "\n",
    "* load using the Pandas `read_csv()` function"
   ]
  },
  {
   "cell_type": "code",
   "execution_count": null,
   "id": "c50e6010",
   "metadata": {},
   "outputs": [],
   "source": [
    "# edit the code cell below to read the .csv file and print the first few rows of the data set. \n",
    "# If you do not know how to do this, refer to previous labs\n",
    "\n",
    "# read a .csv file in as a DataFrame\n",
    "df = ...\n",
    "\n",
    "# returns the first 5 rows of the data set by default\n",
    "..."
   ]
  },
  {
   "cell_type": "markdown",
   "id": "47c1b5dd",
   "metadata": {},
   "source": [
    "### Create Variables from the DataFrame\n",
    "\n",
    "We want to generate a data vector for year, month, and monthly average UV irradiance at noon. Add your code below to take columns from the DataFrame you loaded above and save them as `year`, `month`, and `UV`."
   ]
  },
  {
   "cell_type": "code",
   "execution_count": null,
   "id": "e41c3375",
   "metadata": {},
   "outputs": [],
   "source": [
    "# create variables\n",
    "# replace ... with your code\n",
    "\n",
    "year = ...\n",
    "month = ...\n",
    "UV = ..."
   ]
  },
  {
   "cell_type": "markdown",
   "id": "223c08b3",
   "metadata": {},
   "source": [
    "The data set has a total of 132 UV measurements, which correspond to monthly measurements for 11 years: \n",
    "* $11 \\text{ years} \\times 12 \\text{ months/year} = 132 \\text{ measurements}$ \n",
    "\n",
    "<font color='red'>**Question 2.**</font> If we want to plot the change in average UV irradiance with time over the 132 months, what graphical method should we use? Select your answer from the options in bCourses.\n",
    "\n",
    "### Summer versus Winter\n",
    "\n",
    "We will first examine the average UV irradiance for the winter months (months = 12, 1, and 2), and then compare the winter and summer months (months = 6, 7, and 8) at the end. Run the code cell below to create two data vectors with average UV irradiance for each season."
   ]
  },
  {
   "cell_type": "code",
   "execution_count": null,
   "id": "0d004f01",
   "metadata": {},
   "outputs": [],
   "source": [
    "# Run the code cell below to create two data vectors with average UV irradiance for each season\n",
    "\n",
    "# return UV values only for months = 12, 1, and 2\n",
    "winter_UV = UV[(month==12)|(month==1)|(month==2)]\n",
    "\n",
    "# return UV values only for months = 6, 7, and 8\n",
    "summer_UV = UV[(month==6)|(month==7)|(month==8)]"
   ]
  },
  {
   "cell_type": "markdown",
   "id": "38d80612",
   "metadata": {},
   "source": [
    "## Confidence Intervals for Mean (Full Sample)\n",
    "\n",
    "Next, we would like to create confidence intervals for the average UV irradiance during the **winter** months. In this section, we will create these intervals using the same methods we discussed in the lecture.\n",
    "\n",
    "In the lecture, we saw that a two-sided confidence interval for the population mean can be given by the expression:\n",
    "\n",
    "$$\\overline{X} \\pm z_{\\alpha/2} * \\dfrac{s}{\\sqrt{n}}$$\n",
    "\n",
    "In the code cell below, calculate the sample mean and **sample** standard deviation of the average UV irradiance during the winter months (data saved as `winter_UV`)."
   ]
  },
  {
   "cell_type": "code",
   "execution_count": null,
   "id": "e04d5f03",
   "metadata": {},
   "outputs": [],
   "source": [
    "# Add your code below\n",
    "\n",
    "mean_winter_UV = ...\n",
    "stdev_winter_UV = ..."
   ]
  },
  {
   "cell_type": "markdown",
   "id": "af10df8c",
   "metadata": {},
   "source": [
    "### $z$-Statistic Confidence Intervals\n",
    "\n",
    "<font color='red'>**Question 3.**</font> Using $z$-statistic, what is the 95% confidence interval for the mean of the average UV irradiance during the winter? Select your answer from the options in bCourses.\n",
    "\n",
    "*Note that `winter_UV` has a total of 33 samples.*\n",
    "\n",
    "Also, recall that `norm.ppf(1-b)` returns $z_{b}$. For a two-sided confidence interval, $b = \\alpha/2$."
   ]
  },
  {
   "cell_type": "code",
   "execution_count": null,
   "id": "cd8b15a2",
   "metadata": {},
   "outputs": [],
   "source": [
    "# Add your code below\n",
    "\n",
    "winter_low_estimate = ...\n",
    "\n",
    "winter_high_estimate = ...\n",
    "\n",
    "print('Winter CI: (' + str(np.round(winter_low_estimate,3)) + ', '+ str(np.round(winter_high_estimate,3)) +')')"
   ]
  },
  {
   "cell_type": "markdown",
   "id": "3fb06ce9",
   "metadata": {},
   "source": [
    "### $t$-Statistic Confidence Intervals\n",
    "\n",
    "<font color='red'>**Question 4.**</font> Using $t$-statistic, what is the 95% confidence interval for the mean of the average UV irradiance during the winter? Select your answer from the options in bCourses."
   ]
  },
  {
   "cell_type": "code",
   "execution_count": null,
   "id": "08d27c27",
   "metadata": {},
   "outputs": [],
   "source": [
    "# Add your code below\n",
    "\n",
    "winter_low_estimate = ...\n",
    "\n",
    "winter_high_estimate = ...\n",
    "\n",
    "print('Winter CI: (' + str(np.round(winter_low_estimate,3)) + ', '+ str(np.round(winter_high_estimate,3)) +')')"
   ]
  },
  {
   "cell_type": "markdown",
   "id": "6d6d39a5",
   "metadata": {},
   "source": [
    "<font color='red'>**Question 5.**</font> Compare your confidence intervals from the $z$- and $t$-statistics. What can you say about the confidence intervals in this case? Select your answer(s) from the options in bCourses. Assume that the data come from a normal distribution."
   ]
  },
  {
   "cell_type": "markdown",
   "id": "4253bb57",
   "metadata": {},
   "source": [
    "## Confidence Intervals for Mean (Subsample)\n",
    "\n",
    "Next, we will select a random subsample of size $n=10$ from the full sample of the average UV irradiance during the winter months (which has a size of $33$).\n",
    "\n",
    "Recall that we can select a random sample using `random.choices(sequence, k)`, where `sequence` is the data set we want to sample from and `k` is the sample size. We will specify the random seed at the beginning of the code so that everyone gets the same answers.\n",
    "\n",
    "Run the code cell below to take a random sample of size $10$ from the full sample of the average UV irradiance during the winter months.\n",
    "\n",
    "**Then, add your code to calculate the sample mean and sample standard deviation of the average UV irradiance during the winter months for the subsample.**"
   ]
  },
  {
   "cell_type": "code",
   "execution_count": null,
   "id": "b545720c",
   "metadata": {},
   "outputs": [],
   "source": [
    "#set the random seed equal to 99\n",
    "random.seed(99)\n",
    "\n",
    "# select a random sample\n",
    "winter_UV_sample = random.choices(sorted(winter_UV), k=10)\n",
    "\n",
    "print('The selected sample is: '+ str(winter_UV_sample))\n",
    "\n",
    "# Add your code below to calculate the mean and standard deviation of the subsample\n",
    "mean_winter_UV_sample = ...\n",
    "stdev_winter_UV_sample = ..."
   ]
  },
  {
   "cell_type": "markdown",
   "id": "46b31196",
   "metadata": {},
   "source": [
    "### $z$-Statistic Confidence Intervals\n",
    "\n",
    "<font color='red'>**Question 6.**</font> Using $z$-statistic and the subsample, what is the 95% confidence interval for the mean of the average UV irradiance during the winter? Select your answer from the options in bCourses."
   ]
  },
  {
   "cell_type": "code",
   "execution_count": null,
   "id": "b0b801b1",
   "metadata": {},
   "outputs": [],
   "source": [
    "# Add your code below\n",
    "winter_low_estimate = ...\n",
    "\n",
    "winter_high_estimate = ...\n",
    "\n",
    "print('Winter CI: (' + str(winter_low_estimate) + ', '+ str(winter_high_estimate) +')')"
   ]
  },
  {
   "cell_type": "markdown",
   "id": "8eef260f",
   "metadata": {},
   "source": [
    "### $t$-Statistic Confidence Intervals\n",
    "\n",
    "<font color='red'>**Question 7.**</font> Using $t$-statistic and the subsample, what is the 95% confidence interval for the mean of the average UV irradiance during the winter? Select your answer from the options in bCourses."
   ]
  },
  {
   "cell_type": "code",
   "execution_count": null,
   "id": "d29adad4",
   "metadata": {},
   "outputs": [],
   "source": [
    "# Add your code below\n",
    "\n",
    "winter_low_estimate = ...\n",
    "\n",
    "winter_high_estimate = ...\n",
    "\n",
    "print('Winter CI: (' + str(winter_low_estimate) + ', '+ str(winter_high_estimate) +')')"
   ]
  },
  {
   "cell_type": "markdown",
   "id": "41735e89",
   "metadata": {},
   "source": [
    "<font color='red'>**Question 8.**</font> Compare all the confidence intervals you calculated so far ($z$- vs. $t$-statistics and subsample vs. full sample). What can you say about the confidence intervals in this case? Select your answer(s) from the options in bCourses. Assume that the data come from a normal distribution."
   ]
  },
  {
   "cell_type": "markdown",
   "id": "1d1de38b",
   "metadata": {},
   "source": [
    "## Confidence Intervals for Mean (Non-Normal Sample)\n",
    "\n",
    "In the lecture, we mentioned that when the population standard deviation is unknown and the sample size is small, the $t$-statistic is fully applicable **only if the population is normally distributed**. Estimating confidence intervals for non-normal distributions and small samples can be challenging. \n",
    "\n",
    "In the code cell below, plot a histogram of `winter_UV` and check its distribution. It should be obvious that the data in this case do not come from a normal distribution. However, the confidence intervals you computed above, particularly those based on the subsample, require that the data be normally distributed."
   ]
  },
  {
   "cell_type": "code",
   "execution_count": null,
   "id": "8995f049",
   "metadata": {},
   "outputs": [],
   "source": [
    "# Add your code below\n",
    "\n",
    "..."
   ]
  },
  {
   "cell_type": "markdown",
   "id": "9c840448",
   "metadata": {},
   "source": [
    "### Bootstrapping \n",
    "\n",
    "Fortunately, we can use simulation to generate confidence intervals for any estimate without making assumptions on the distribution of the data (or any assumptions at all!). \n",
    "\n",
    "We do this by \"bootstrapping\" our data. This simply means we treat our data as the population and draw **many many** samples from our data to get a confidence interval. There are different approaches, but here are the steps to the most common bootstrapping approach:\n",
    "\n",
    "1. Draw a sample of the same size as the data **with replacement**. *If our sample has 33 observations, we draw a random sample of size 33 with replacement*\n",
    "  \n",
    "2. Because we are sampling **with replacement**, the same data point may appear in the sample more than once. *Therefore, the samples will not be exactly the same as the data, even if both have the same size*\n",
    "3. Compute the mean of this new sample\n",
    "4. Repeat the process many times\n",
    "\n",
    "Let's first generate a single bootstrap sample from our data.\n",
    "\n",
    "Read then run the code cell below multiple times and check the output.\n",
    "\n",
    "It should be clear that in the bootstrap sample, some of the same values appear multiple times, and some values form the original data do not appear in the bootstrap sample. Because this is a random sample and we are not specifying the seed number at the beginning of the code cell, every time you rerun it, you will get a different bootstrap sample."
   ]
  },
  {
   "cell_type": "code",
   "execution_count": null,
   "id": "777a1c67",
   "metadata": {},
   "outputs": [],
   "source": [
    "# Run the code cell below to select a single bootstrap sample\n",
    "\n",
    "# print original data\n",
    "print('Original sample of winter UV irradiance: \\n'+ str(sorted(winter_UV)))\n",
    "\n",
    "# select a random sample of the same size as the data and with replacement\n",
    "winter_UV_sample = random.choices(sorted(winter_UV), k=len(winter_UV))\n",
    "\n",
    "# print the bootstrap sample\n",
    "print('Single bootstrap sample of winter UV irradiance: \\n'+ str(sorted(winter_UV_sample)))  "
   ]
  },
  {
   "cell_type": "markdown",
   "id": "4d459076",
   "metadata": {},
   "source": [
    "Now, let's select a total of **5000** bootstrap samples and calculate the mean of each sample. Run the code cell below. Note that here we are specifying `random.seed(99)`, so everyone will get the same answer."
   ]
  },
  {
   "cell_type": "code",
   "execution_count": null,
   "id": "b5bd9d26",
   "metadata": {},
   "outputs": [],
   "source": [
    "#set the random seed equal to 99\n",
    "random.seed(99)\n",
    "\n",
    "# specify the total number of samples to create\n",
    "n_samples = 5000\n",
    "\n",
    "# create an empty array to save the means of each sample\n",
    "bootstrap_means= []\n",
    "\n",
    "# loop through a total of n_samples times\n",
    "for i in range(n_samples):\n",
    "    \n",
    "    # select a random sample of the same size as the data and with replacement\n",
    "    winter_UV_sample = random.choices(sorted(winter_UV), k=len(winter_UV))\n",
    "    \n",
    "    # calculate the sample mean\n",
    "    winter_UV_sample_mean = np.mean(winter_UV_sample)\n",
    "    \n",
    "    # append the mean value to save all the means\n",
    "    bootstrap_means = np.append(bootstrap_means, winter_UV_sample_mean)"
   ]
  },
  {
   "cell_type": "markdown",
   "id": "25187c3e",
   "metadata": {},
   "source": [
    "In the code cell below plot a histogram of `bootstrap_means` and check its distribution. Note that this is the distribution of the sample means. Even if the original data do not come from a normal distribution, the bootstrapped sample means appear to follow a normal distribution in this case (because of the Central Limit Theorem, which does not require that the data come from a normal distribution)."
   ]
  },
  {
   "cell_type": "code",
   "execution_count": null,
   "id": "ad31c880",
   "metadata": {},
   "outputs": [],
   "source": [
    "# Add your code below\n",
    "\n",
    "..."
   ]
  },
  {
   "cell_type": "markdown",
   "id": "8caadbbc",
   "metadata": {},
   "source": [
    "### Confidence Intervals by Bootstrapping\n",
    "\n",
    "Now that we have a sample of 5000 sample means, we can create a confidence interval as follows:\n",
    "\n",
    "1. If we want a 95% confidence interval, we simply find the 2.5 percentile and the 97.5 percentile of the bootstrapped means\n",
    "2. The interval between the 2.5 percentile and the 97.5 percentile would thus correspond to middle 95% of the bootstrapped means\n",
    "3. This would be our 95% confidence interval!\n",
    "4. If we want a different confidence level (let's say 99%), simply find the lower and upper percentiles such that (1-$\\alpha$)100% of the bootstrapped means are in between these percentiles.\n",
    "\n",
    "Run the code cell below to see how we generate this interval."
   ]
  },
  {
   "cell_type": "code",
   "execution_count": null,
   "id": "9eb770bd",
   "metadata": {},
   "outputs": [],
   "source": [
    "# get the 2.5 and 97.5 percentiles of the bootstrapped means\n",
    "low, upper = np.percentile(bootstrap_means, [2.5, 97.5])\n",
    "\n",
    "# plot a histogram of the bootstrapped means\n",
    "plt.hist(bootstrap_means, bins=15)\n",
    "\n",
    "# plot red vertical lines at the 2.5 and 97.5 percentiles\n",
    "plt.vlines(low, 0, 1000, 'r')\n",
    "plt.vlines(upper, 0, 1000, 'r')\n",
    "\n",
    "# specify y limits\n",
    "plt.ylim(0, 1000)\n",
    "\n",
    "# label axes\n",
    "plt.xlabel('Means $(mW/m^2)$')\n",
    "plt.ylabel('Frequency')\n",
    "\n",
    "# display plot\n",
    "plt.show()\n",
    "\n",
    "# Print the interval\n",
    "print('Bootsrtapped 95% CI: (' + str(np.round(low,3)) + ', '+ str(np.round(upper,3)) +')')"
   ]
  },
  {
   "cell_type": "markdown",
   "id": "e83df56d",
   "metadata": {},
   "source": [
    "In the plot above, the data lower than the red line to the left correspond to the lower 2.5% of the bootstrapped means, and the data higher than the red line to the right correspond to the upper 2.5% of the bootstrapped means.\n",
    "\n",
    "Thus, the values in between the two red lines correspond to the middle 95% of the bootstrapped means. This would be our 95% confidence interval based on simulation.\n",
    "\n",
    "### 90% Bootstrapped Confidence Interval\n",
    "\n",
    "<font color='red'>**Question 9.**</font> Using the bootstrapped sample means created above, what is the 90% confidence interval for the mean of the average UV irradiance during the winter? Select your answer from the options in bCourses.\n",
    "\n",
    "*Hint: All you need to do is calculate the correct percentiles based on the desired confidence level.*"
   ]
  },
  {
   "cell_type": "code",
   "execution_count": null,
   "id": "204a17f7",
   "metadata": {},
   "outputs": [],
   "source": [
    "# Add your code below\n",
    "\n",
    "# get the correct percentiles of the bootstrapped means\n",
    "low, upper = ...\n",
    "\n",
    "# Print the interval\n",
    "print('Bootsrtapped 90% CI: (' + str(np.round(low,3)) + ', '+ str(np.round(upper,3)) +')')"
   ]
  },
  {
   "cell_type": "markdown",
   "id": "8c771556",
   "metadata": {},
   "source": [
    "## Summer versus Winter UV Irradiance\n",
    "\n",
    "We are interested in comparing the average UV irradiance at noon for the winter months (December/January/February: 12, 1, 2) and the summer months (June/July/August: 6, 7, 8).\n",
    "\n",
    "Recall that we created two  data vectors, one with average UV irradiance of the winter months (`winter_UV`) and another for the average UV irradiance of the summer months (`summer_UV`).\n",
    "\n",
    "### Boxplots\n",
    "<font color='red'>**Question 10.**</font> Create two boxplots, one for the average UV irradiance during the winter and another for the average UV irradiance during the summer. Create both boxplots **in the same plot** (refer to Lab 01). What can you tell about the average UV irradiance during the winter and the summer months based on your plot? Select your answer(s) from the options in bCourses."
   ]
  },
  {
   "cell_type": "code",
   "execution_count": null,
   "id": "f7a7ca59",
   "metadata": {},
   "outputs": [],
   "source": [
    "# Add your code below\n",
    "\n",
    "..."
   ]
  },
  {
   "cell_type": "markdown",
   "id": "46dcc231",
   "metadata": {},
   "source": [
    "### Confidence Interval for Difference in Means (Bootstrapping)\n",
    "\n",
    "Using bootstrapping with 5000 samples, calculate a 99.7% confidence interval for $\\overline{X}-\\overline{Y}$.\n",
    "\n",
    "<font color='red'>**Question 11.1.**</font> What is the **lower** estimate of the 99.7% confidence interval for $\\overline{X}-\\overline{Y}$. Add your answer in the bCourses quiz as an integer.\n",
    "\n",
    "<font color='red'>**Question 11.2.**</font> What is the **upper** estimate of the 99.7% confidence interval for $\\overline{X}-\\overline{Y}$. Add your answer in the bCourses quiz as an integer.\n",
    "\n",
    "*Steps: I have copied and pasted the same code we used to generate 5000 bootstrap samples and calculate their means for the winter months. You will need to edit the following:*\n",
    "\n",
    "1. Just like we are selecting a random sample for the winter months, modify the code to select a random sample for the summer months (data saved as `summer_UV`)\n",
    "3. Just like we are calculating the sample mean of the winter months, modify the code to calculate the sample mean of the summer months\n",
    "4. Instead of appending the mean of the winter months, append the mean of the summer minus the mean of the winter samples \n",
    "5. Once you have 5000 bootstrapped medians, calculate the confidence interval using the correct percentiles that would give a 99.7% confidence interval"
   ]
  },
  {
   "cell_type": "code",
   "execution_count": null,
   "id": "35f77349",
   "metadata": {},
   "outputs": [],
   "source": [
    "#set the random seed equal to 99\n",
    "random.seed(99) # DO NOT CHANGE OR REMOVE THIS LINE\n",
    "\n",
    "# specify the total number of samples to create\n",
    "n_samples = 5000\n",
    "\n",
    "# create an empty array to save the means of each sample\n",
    "bootstrap_means_diff= []\n",
    "\n",
    "# loop through a total of n_samples times\n",
    "for i in range(n_samples):\n",
    "    \n",
    "    # select a random sample from winter_UV\n",
    "    winter_UV_sample = random.choices(sorted(winter_UV), k=len(winter_UV))\n",
    "    \n",
    "    # select a random sample from summer_UV\n",
    "    summer_UV_sample = ...\n",
    "    \n",
    "    # calculate the sample mean for winter\n",
    "    winter_UV_sample_mean = np.mean(winter_UV_sample)\n",
    "    \n",
    "    # calculate the sample mean for winter\n",
    "    summer_UV_sample_mean = ...\n",
    "    \n",
    "    # append the difference in mean values to save all the means\n",
    "    bootstrap_means_diff = np.append(bootstrap_means_diff, ...)\n",
    "    \n",
    "# get the correct percentiles of the bootstrapped difference in means\n",
    "low, upper = ...\n",
    "\n",
    "# plot a histogram of the bootstrapped difference in means\n",
    "plt.hist(bootstrap_means_diff, bins=15)\n",
    "\n",
    "# plot red vertical lines at the percentiles\n",
    "plt.vlines(low, 0, 1000, 'r')\n",
    "plt.vlines(upper, 0, 1000, 'r')\n",
    "\n",
    "# specify y limits\n",
    "plt.ylim(0,1000)\n",
    "\n",
    "# label axes\n",
    "plt.xlabel('Difference in Means $(mW/m^2)$')\n",
    "plt.ylabel('Frequency')\n",
    "\n",
    "# display plot\n",
    "plt.show()\n",
    "\n",
    "# Print the interval\n",
    "print('Difference in Means CI 99.7% CI: (' + str(np.round(low)) + ', '+ str(np.round(upper)) +')')"
   ]
  },
  {
   "cell_type": "markdown",
   "id": "7fd9c769",
   "metadata": {},
   "source": [
    "## Confidence Intervals for Median\n",
    "\n",
    "When we introduced confidence intervals in the lecture, the first step was to find a random variable that is a function of the observed data and the unknown parameter and has a **known distribution**. If we do not know (or can't approximate) the distribution of the estimator, it is impossible to construct a confidence interval using the methods we discussed in the lecture.\n",
    "\n",
    "However, the nice thing about bootstrapping is that we do not need to make any assumptions on the distributions, and there are no restrictions. We can generate confidence intervals for **any** estimate, regardless of the distribution of the data, or the bootstrapped estimate. We saw that the distribution of the bootstrapped means appears to follow a normal distribution in this case. However, this is not required to get a bootstrapped confidence interval. Regardless of the distribution of the estimate, we can still use the exact same procedure.\n",
    "\n",
    "We discussed the Central Limit Theorem, which says that the sum or average of many distributions tends toward normal. That's why our confidence intervals for the mean were based on a normal distribution. What if we want a confidence interval for the **median**?! We have no idea what the distribution of the median is! That's when bootstrapping becomes extremely helpful.\n",
    "\n",
    "Using bootstrapping with 5000 samples, calculate a 95% confidence interval for the median of the UV irradiance during the winter months (`winter_UV`) .\n",
    "\n",
    "<font color='red'>**Question 12.1.**</font> What is the **lower** estimate of the 95% confidence interval for the median of the UV irradiance during the winter? Add your answer in bCourses.\n",
    "\n",
    "<font color='red'>**Question 12.2.**</font> What is the **upper** estimate of the 95% confidence interval for the median of the UV irradiance during the winter? Add your answer in bCourses.\n",
    "\n",
    "*Steps: I have copied and pasted the same code we used to generate 5000 bootstrap samples and calculate their means. You will need to edit the following:*\n",
    "\n",
    "1. Instead of calculating the sample mean of the winter months, calculate the median of each bootstrapped sample\n",
    "5. Once you have 5000 bootstrapped medians, calculate the confidence interval using the correct percentiles that would give a 95% confidence interval"
   ]
  },
  {
   "cell_type": "code",
   "execution_count": null,
   "id": "d8f965a2",
   "metadata": {},
   "outputs": [],
   "source": [
    "#set the random seed equal to 99\n",
    "random.seed(99) # DO NOT CHANGE OR REMOVE THIS LINE\n",
    "\n",
    "# specify the total number of samples to create\n",
    "n_samples = 5000\n",
    "\n",
    "# create an empty array to save the means of each sample\n",
    "bootstrap_medians= []\n",
    "\n",
    "# loop through a total of n_samples times\n",
    "for i in range(n_samples):\n",
    "    \n",
    "    # select a random sample of the same size as the data and with replacement\n",
    "    winter_UV_sample = random.choices(sorted(winter_UV), k=len(winter_UV))\n",
    "    \n",
    "    # calculate the sample median\n",
    "    winter_UV_sample_median = ...\n",
    "    \n",
    "    # append the median value to save all the medians\n",
    "    bootstrap_medians = np.append(bootstrap_medians, winter_UV_sample_median)\n",
    "    \n",
    "# get the correct percentiles of the bootstrapped medians\n",
    "low, high = ...\n",
    "\n",
    "# plot a histogram of the bootstrapped medians\n",
    "plt.hist(bootstrap_medians, bins=15)\n",
    "\n",
    "# plot red vertical lines at the percentiles\n",
    "plt.vlines(low, 0, 2000, 'r')\n",
    "plt.vlines(high, 0, 2000, 'r')\n",
    "\n",
    "# specify y limits\n",
    "plt.ylim(0,2000)\n",
    "\n",
    "# label axes\n",
    "plt.xlabel('Medians $(mW/m^2)$')\n",
    "plt.ylabel('Frequency')\n",
    "\n",
    "# display plot\n",
    "plt.show()\n",
    "\n",
    "# Print the interval\n",
    "print('Bootsrtapped 95% CI: (' + str(np.round(low,3)) + ', '+ str(np.round(high,3)) +')')"
   ]
  },
  {
   "cell_type": "markdown",
   "id": "e6ccfda0",
   "metadata": {},
   "source": [
    "## Submit your work!\n",
    "\n",
    "<font color='red'>**Question 13.** </font> Submit your PDF file.\n",
    "\n",
    "I recommend that you save your .ipynb file and keep a copy of it so that you can refer to it in the future (e.g., when working on the project). \n",
    "\n",
    "Once done with answering ALL questions and you are ready to submit the quiz, follow these steps:\n",
    "\n",
    "1. Run all cells in the notebook. You can do this by going to Cell > Run All. This makes sure that all your visuals and answers show up in the file you submit.\n",
    "\n",
    "2. Then, go to \"File > Download as > PDF via LaTex(.pdf)\" to generate a PDF file or PDF via HTML(.html). Name the PDF file with your last name \"Lastname.pdf\". Even if you click on PDF via HTML(.html), make sure that the downloaded file is '.pdf'.\n",
    "\n",
    "3. If you have trouble generating the PDF file from Jupyter notebook, use [datahub.berkeley.edu](http://datahub.berkeley.edu). Log in with your CalNet credentials. Upload the ipynb file with your outputs and results to Juptrer. Then follow step 2.\n",
    "\n",
    "4. Upload the PDF file to the bCourses quiz (more instructions there).\n",
    "\n",
    "\n",
    "**Not submitting a PDF file will result in a grade of 0 on this lab assignment.**\n",
    "**You will also receive a 0 if your answers to this quiz are inconsistent with your PDF.**"
   ]
  }
 ],
 "metadata": {
  "kernelspec": {
   "display_name": "Python 3 (ipykernel)",
   "language": "python",
   "name": "python3"
  },
  "language_info": {
   "codemirror_mode": {
    "name": "ipython",
    "version": 3
   },
   "file_extension": ".py",
   "mimetype": "text/x-python",
   "name": "python",
   "nbconvert_exporter": "python",
   "pygments_lexer": "ipython3",
   "version": "3.9.13"
  }
 },
 "nbformat": 4,
 "nbformat_minor": 5
}
