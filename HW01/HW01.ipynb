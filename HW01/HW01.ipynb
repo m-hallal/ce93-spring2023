{
 "cells": [
  {
   "cell_type": "markdown",
   "id": "36775d77",
   "metadata": {},
   "source": [
    "# CE 93: Engineering Data Analysis\n",
    "# HW 01: Python Introduction"
   ]
  },
  {
   "cell_type": "markdown",
   "id": "4e490892",
   "metadata": {},
   "source": [
    "### Load the required libraries \n",
    "\n",
    "The following code loads the required libraries. Run this cell first."
   ]
  },
  {
   "cell_type": "code",
   "execution_count": null,
   "id": "80632a94",
   "metadata": {},
   "outputs": [],
   "source": [
    "# import python library / packages \n",
    "import numpy as np                           # ndarrays for gridded data\n",
    "import pandas as pd                          # DataFrames for tabular data"
   ]
  },
  {
   "cell_type": "markdown",
   "id": "897a5cab",
   "metadata": {},
   "source": [
    "### Load the data\n",
    "\n",
    "Let's load the provided data set `HW01_Practice_Data.csv`. These are all the features:\n",
    "1. X (m): X coordinate of sampling location\n",
    "2. Y (m): Y coordinate of sampling location\n",
    "3. Bedrock Depth (m): Bedrock depth at sampling location\n",
    "\n",
    "* load using the Pandas `read_csv()` function"
   ]
  },
  {
   "cell_type": "code",
   "execution_count": null,
   "id": "391afa04",
   "metadata": {},
   "outputs": [],
   "source": [
    "# read a .csv file in as a DataFrame\n",
    "df = pd.read_csv('HW01_Practice_Data.csv')\n",
    "\n",
    "# returns the first 5 rows of the dataset by default\n",
    "df.head()"
   ]
  },
  {
   "cell_type": "markdown",
   "id": "a34b26bf",
   "metadata": {},
   "source": [
    "### Print values from the data\n",
    "\n",
    "Let's print the bedrock depth a certain X and Y location.\n",
    "\n",
    "* print using the `print()` function"
   ]
  },
  {
   "cell_type": "code",
   "execution_count": null,
   "id": "997bdb8e",
   "metadata": {},
   "outputs": [],
   "source": [
    "print('The bedrock depth at X=' + str(df.iloc[6,0]) + ' m and Y=' + str(df.iloc[6,1]) + ' m is '+ str(df.iloc[6,2]) + ' m')"
   ]
  }
 ],
 "metadata": {
  "kernelspec": {
   "display_name": "Python 3 (ipykernel)",
   "language": "python",
   "name": "python3"
  },
  "language_info": {
   "codemirror_mode": {
    "name": "ipython",
    "version": 3
   },
   "file_extension": ".py",
   "mimetype": "text/x-python",
   "name": "python",
   "nbconvert_exporter": "python",
   "pygments_lexer": "ipython3",
   "version": "3.9.15"
  }
 },
 "nbformat": 4,
 "nbformat_minor": 5
}
