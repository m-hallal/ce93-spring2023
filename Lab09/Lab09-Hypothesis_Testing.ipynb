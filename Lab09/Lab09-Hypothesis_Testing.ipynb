{
 "cells": [
  {
   "cell_type": "markdown",
   "metadata": {},
   "source": [
    "# CE 93: Engineering Data Analysis\n",
    "# LAB 09 Hypothesis Testing"
   ]
  },
  {
   "cell_type": "markdown",
   "metadata": {},
   "source": [
    "**Full Name:** *replace text here*"
   ]
  },
  {
   "cell_type": "markdown",
   "metadata": {},
   "source": [
    "## Instructions \n",
    "\n",
    "Welcome to Lab 09! \n",
    "\n",
    "Please save your work after every question! At the end, you will have to submit your Jupyter Notebook as a PDF file in the bCourses quiz. The notebook should be consistent with your quiz answers. Not submitting a PDF file will result in a grade of 0 on the lab assignment. You will also receive a 0 if your answers to the quiz are inconsistent with your PDF.\n",
    "\n",
    "If you see cells with \"...\" make sure to replace the \"...\" with your code even if they are not listed with a \"Question\". \n",
    "Please remember to label all axes with the quantity and units being plotted. \n",
    "\n",
    "Any part listed as a \"<font color='red'>**Question**</font>\" should be answered in the bCourses quiz to receive credit."
   ]
  },
  {
   "cell_type": "markdown",
   "metadata": {},
   "source": [
    "We will use the following Python packages:\n",
    "\n",
    "* NumPy\n",
    "* MatPlotLib\n",
    "* pandas\n",
    "* random\n",
    "* statsmodels.stats.weightstats\n",
    "* scipy.stats"
   ]
  },
  {
   "cell_type": "markdown",
   "metadata": {},
   "source": [
    "## Load the required libraries \n",
    "\n",
    "The following code loads the required libraries. Run this cell first."
   ]
  },
  {
   "cell_type": "code",
   "execution_count": null,
   "metadata": {},
   "outputs": [],
   "source": [
    "# import python library / packages \n",
    "import numpy as np                               # ndarrays for gridded data\n",
    "import matplotlib.pyplot as plt                  # plotting\n",
    "import pandas as pd                              # DataFrames for tabular data\n",
    "import random                                    # random sampling\n",
    "from statsmodels.stats.weightstats import ztest  # hypothesis testing\n",
    "from scipy.stats import *                        # t-test"
   ]
  },
  {
   "cell_type": "markdown",
   "metadata": {},
   "source": [
    "## About Lab 09\n",
    "\n",
    "In this lab, we will learn how to use `Python` to perform hypothesis testing based on observed data. We will work with ammonia measurements across a river.\n",
    "\n",
    "Ammonia can be toxic to aquatic life at high levels. Typical natural sources of ammonia in water include: decomposition or breakdown of organic waste matter, gas exchange with the atmosphere, forest fires, animal and human waste, and nitrogen fixation processes. Some processes that directly create ammonia are commercial fertilizers and other industrial applications. When present at high levels, ammonia has a toxic effect on aquatic life. Because of this, it is important to monitor the ammonia levels in an aquatic environment.\n",
    "\n",
    "Source: https://www.epa.gov/wqc/aquatic-life-criteria-ammonia"
   ]
  },
  {
   "cell_type": "markdown",
   "metadata": {},
   "source": [
    "## Ammonia Data\n",
    "\n",
    "The California Environmental Protection Agency (CalEPA) is worried that the amount of ammonia in the environment is reaching unhealthy levels and has hired you as a consultant to perform statistical data analyses. CalEPA wants your help to analyze this data and understand whether ammonia levels are unhealthy and what actions they should take.\n",
    "\n",
    "Let's load the provided data set `ammonia_conc.csv`. It has one feature, which is ammonia levels in ppm in the river of interest. There are a total of **150** measurements taken at random times over 1 year.\n",
    "\n",
    "* load using the Pandas `read_csv()` function\n",
    "\n",
    "The data stored in the csv file are in units of **ppm**. The unhealthy level is defined as **0.04ppm**."
   ]
  },
  {
   "cell_type": "code",
   "execution_count": null,
   "metadata": {},
   "outputs": [],
   "source": [
    "# edit the code cell below to read the .csv file and print the first few rows of the data set. \n",
    "# If you do not know how to do this, refer to previous labs\n",
    "\n",
    "# read a .csv file in as a DataFrame\n",
    "df = ...\n",
    "\n",
    "# returns the first 5 rows of the data set by default\n",
    "..."
   ]
  },
  {
   "cell_type": "markdown",
   "metadata": {},
   "source": [
    "### Create Variables from the DataFrame\n",
    "\n",
    "We want to generate a data vector for the ammonia level (easier to work with a data vector than a DataFrame). Add your code below to take the column from the DataFrame you loaded above and save it as `ammonia`.\n",
    "\n",
    "<font color='red'>**Question 1.**</font> Compute the following summary statistics and then select your answers from the options in bCourses. Round all answers to 4 digits after the decimal point.\n",
    "\n",
    "* sample mean\n",
    "* sample median\n",
    "* **sample** standard deviation\n",
    "* **sample** variance\n",
    "* coefficient of variation\n",
    "* 95$^{th}$ percentile"
   ]
  },
  {
   "cell_type": "code",
   "execution_count": null,
   "metadata": {},
   "outputs": [],
   "source": [
    "# create variables\n",
    "# replace ... with your code\n",
    "\n",
    "ammonia = ...\n",
    "\n",
    "# compute summary statistics\n",
    "mean_ammonia = ...\n",
    "median_ammonia = ...\n",
    "stdev_ammonia = ...\n",
    "var_ammonia = ...\n",
    "cv_ammonia = ...\n",
    "per_ammonia = ..."
   ]
  },
  {
   "cell_type": "markdown",
   "metadata": {},
   "source": [
    "The loaded data set includes a sample of 150 ammonia measurements taken at random times over 1 year.\n",
    "\n",
    "<font color='red'>**Question 2.**</font> The unhealthy level for ammonia is defined as **0.040 ppm**. So, if the average **population** level is greater than 0.040 ppm, the water is considered unhealthy. Without performing any additional calculations, and based on the summary statistics above, can you conclude with **certainty** that the water is unhealthy? Select your answer from the options in bCourses."
   ]
  },
  {
   "cell_type": "markdown",
   "metadata": {},
   "source": [
    "## Hypothesis Testing\n",
    "\n",
    "As with any sample, there is always sampling variation and uncertainty. It is important to recognize that a sample is influenced by measurement errors, sampling bias, sampling variation, among other factors. Therefore, to make conclusions on the population using data from uncertain and random samples, it is important to use proper statistical methods.\n",
    "\n",
    "For this data set, we are concerned that the population average ammonia levels are **greater** than the unhealthy level of 0.04 ppm. Therefore, our null and alternative hypotheses are as follows:\n",
    "\n",
    "**$H_0: \\mu = 0.040$ ppm**\n",
    "\n",
    "**$H_1: \\mu > 0.040$ ppm**\n",
    "\n",
    "where $\\mu$ is the population mean of ammonia levels\n",
    "\n",
    "Since we have a large sample (150 measurements), and by the Central Limit Theorem, the sample mean, $\\overline{X}$, has a normal distribution, regardless of the underlying distribution of the population. Since we are interested in the population mean $\\mu$, we will use the sample mean $\\overline{X}$ as our test statistic to perform the hypothesis test.\n",
    "\n",
    "The distribution of the test statistic under the null hypothesis is known as the **null** distribution. If the population standard deviation $\\sigma$ is unknown, it can be approximated by the sample standard deviation $s$ (for large samples).\n",
    "\n",
    "<font color='red'>**Question 3.**</font> What is the null distribution of the test statistic $\\overline{X}$ for the ammonia levels? Select your answer from the options in bCourses.\n",
    "\n",
    "<font color='red'>**Question 4.**</font> Under the null distribution (i.e., if $H_0$ were true), what is the $z$-score of the observed test statistic (i.e., of the observed sample mean)? Add your answer in bCourses and round it to 3 digits after the decimal point.\n",
    "\n",
    "The $z$-score of the test statistic is:\n",
    "\n",
    "$$z=\\dfrac{\\overline{x}-\\mu}{\\dfrac{\\sigma}{\\sqrt{n}}}$$\n",
    "\n",
    "if $\\sigma$ is unknown, it can be replaced  $s$ (for large samples)."
   ]
  },
  {
   "cell_type": "code",
   "execution_count": null,
   "metadata": {},
   "outputs": [],
   "source": [
    "# Add your code below\n",
    "\n",
    "..."
   ]
  },
  {
   "cell_type": "markdown",
   "metadata": {},
   "source": [
    "### $p$-value\n",
    "\n",
    "Now that you have obtained the $z$-score of the test statistic, you can compute the $p$-value. In the lecture, we defined the $p$-value as the probability of obtaining a test statistic at least as extreme as the result actually observed, assuming $H_0$ to be true (i.e., under the null distribution).\n",
    "\n",
    "<font color='red'>**Question 5.**</font> Using $H_1: \\mu>0.04$ and the $z$-score of the test statistic you computed above, what is the $p$-value for this hypothesis test? Add your answer in bCourses and round it to 3 digits after the decimal point.\n",
    "\n",
    "*Hint: $P(Z>z)=1-P(Z<z)=1-\\Phi(z)$*\n",
    "*`=1-norm.cdf(z)`*"
   ]
  },
  {
   "cell_type": "code",
   "execution_count": null,
   "metadata": {},
   "outputs": [],
   "source": [
    "# Add your code below\n",
    "\n",
    "..."
   ]
  },
  {
   "cell_type": "markdown",
   "metadata": {},
   "source": [
    "### Decision\n",
    "\n",
    "The smaller the $p$-value, the stronger the evidence is against $H_0$. More specifically, if the $p$-value $\\leq$ the significance level $\\alpha$, the result is statistically significant at the $100\\alpha\\%$ level and we reject $H_0$. This is because a low $p$-value implies that it is very unlikely we observe a sample as extreme as our sample if $H_0$ were true.\n",
    "\n",
    "Otherwise, if the $p$-value $> \\alpha$, the result is not statistically significant at the $100\\alpha\\%$ level and we fail to reject $H_0$. This is because a $p$-value that is not low enough implies that it is not very unlikely we observe a sample as extreme as our sample if $H_0$ were true.\n",
    "\n",
    "The significance level $\\alpha$ is something that you as a data analyst should specify. It reflects the threshold probability that makes you \"feel comfortable\" rejecting $H_0$. A commonly used value is $\\alpha=0.05$, but other values are also used depending on the data being analyzed and how critical the analysis is.\n",
    "\n",
    "<font color='red'>**Question 6.**</font> What is the appropriate conclusion under the following significance levels? Select your answer(s) from the options in bCourses.\n",
    "\n",
    "* $\\alpha=0.10$\n",
    "* $\\alpha=0.05$\n",
    "* $\\alpha=0.02$\n",
    "* $\\alpha=0.01$"
   ]
  },
  {
   "cell_type": "markdown",
   "metadata": {},
   "source": [
    "## `ztest()` in `Python`\n",
    "\n",
    "We can easily perform all the steps you completed above in `Python` using a single line of code. When assuming a normal distribution for the test statistic and calculating a $z$-score (applicable when sample is large), the test is referred to as a $z$-test (because it is based on the $z$-distribution). \n",
    "\n",
    "When testing for the population mean, we can use: [`ztest(x1, value, alternative)`](https://www.statsmodels.org/stable/generated/statsmodels.stats.weightstats.ztest.html#statsmodels.stats.weightstats.ztest)\n",
    "\n",
    "* `x1` is the sample\n",
    "* `value` is the mean under the null hypothesis\n",
    "* `alternative` is the alternative hypothesis and takes on the following values:\n",
    "    1. ‘two-sided’: $H_1: \\mu \\neq$ `value`\n",
    "    2. ‘larger’: $H_1: \\mu >$ `value`\n",
    "    3. ‘smaller’: $H_1: \\mu <$ `value`\n",
    "\n",
    "So, if we want to test $H_1: \\mu < 0.04$, we can use: `ztest(ammonia, value=0.04, alternative='smaller')`. Note that we used `alternative='smaller'` because we are testing $H_1: \\mu < 0.04$. If we want to test a different alternative hypothesis, we have to update the parameter `alternative` accordingly.\n",
    "\n",
    "`ztest(x1, value, alternative)` will return two values:\n",
    "1. The $z$-score of the test statistic\n",
    "2. The $p$-value\n",
    "\n",
    "Using `ztest()` and $H_1: \\mu > 0.04$, confirm your answers to Questions 4 and 5. Note that the values from `ztest()` and what you computed already should exactly match :)"
   ]
  },
  {
   "cell_type": "code",
   "execution_count": null,
   "metadata": {},
   "outputs": [],
   "source": [
    "# Add your code below\n",
    "\n",
    "..."
   ]
  },
  {
   "cell_type": "markdown",
   "metadata": {},
   "source": [
    "<font color='red'>**Question 7.**</font> Using `ztest()` and $H_1: \\mu \\neq 0.04$, what is the $p$-value? Add your answer in bCourses and round it to 3 digits after the decimal point."
   ]
  },
  {
   "cell_type": "code",
   "execution_count": null,
   "metadata": {},
   "outputs": [],
   "source": [
    "# Add your code below\n",
    "\n",
    "..."
   ]
  },
  {
   "cell_type": "markdown",
   "metadata": {},
   "source": [
    "## Small-Sample Tests\n",
    "\n",
    "Everything we did thus far was based on a large sample. If the sample isn't large enough, we cannot assume a normal distribution for the test statistic. The only exception is if the underlying population is normal. In this case, we can use a $t$-distribution:\n",
    "\n",
    "$$\\dfrac{\\overline{X}-\\mu}{\\dfrac{s}{\\sqrt{n}}}\\sim t (df=n-1)$$\n",
    "\n",
    "Run the code below to select the last 10 ammonia measurements. This will be our small sample and we will save it as a new variable `ammonia_last`.\n",
    "\n",
    "Then add your code to compute the sample mean of `ammonia_last`."
   ]
  },
  {
   "cell_type": "code",
   "execution_count": null,
   "metadata": {},
   "outputs": [],
   "source": [
    "# run the code below to select the last 10 ammonia measurements.\n",
    "\n",
    "ammonia_last=ammonia[-10:]\n",
    "\n",
    "# compute the mean of ammonia_last\n",
    "mean_ammonia_last = ..."
   ]
  },
  {
   "cell_type": "markdown",
   "metadata": {},
   "source": [
    "<font color='red'>**Question 8.**</font> Compare the mean of the subsample (`mean_ammonia_last`) to that of the full sample (`mean_ammonia`). What can you say based on this comparison? Select your answer(s) from the options in bCourses."
   ]
  },
  {
   "cell_type": "markdown",
   "metadata": {},
   "source": [
    "### `ttest_1samp()` in `Python`\n",
    "\n",
    "While you are very much capable of performing the hypothesis testing by computing the $t$-value of the test statistic and then the $p$-value (similar to what you did above), we will use existing `Python` functions to directly perform the hypothesis test. \n",
    "\n",
    "*Again, the reason we are using a $t$-distribution now is because our sample is small (n=10) and we are assuming that the underlying distribution in normal but with unknown population standard deviation $\\sigma$.*\n",
    "\n",
    "Assuming the underlying population is normal, we can perform hypothesis testing on the population mean using a $t$-statistic.The test is thus referred to as a $t$-test. Similar to `ztest()`, we can use: [`ttest_1samp(a, popmean, alternative)`](https://docs.scipy.org/doc/scipy/reference/generated/scipy.stats.ttest_1samp.html)\n",
    "\n",
    "* `a` is the observed sample\n",
    "* `popmean` is the mean under the null hypothesis **(this was called `value` for `ztest()`)**\n",
    "* `alternative` takes on the following values:\n",
    "    1. ‘two-sided’: $H_1: \\mu \\neq$ `popmean`\n",
    "    2. ‘greater’: $H_1: \\mu >$ `popmean` **(this was called `larger` for `ztest()`)**\n",
    "    3. ‘less’: $H_1: \\mu <$ `popmean` **(this was called `smaller` for `ztest()`)**\n",
    "    \n",
    "**Note that some of the parameters for `ttest_1samp()` are different from `ztest()`.**\n",
    "\n",
    "So, if we want to test $H_1: \\mu < 0.04$, we can use: `ttest_1samp(ammonia_last, popmean=0.04, alternative='less')`. Note that we used `alternative='less'` because we are testing $H_1: \\mu < 0.04$. If we want to test a different alternative hypothesis, we have to update the parameter `alternative` accordingly.\n",
    "\n",
    "`ttest_1samp(a, popmean, alternative)` will return two values:\n",
    "1. The $t$-score of the test statistic\n",
    "2. The $p$-value\n",
    "\n",
    "<font color='red'>**Question 9.**</font> Using `ttest_1samp()` and $H_1: \\mu > 0.04$ with `ammonia_last`, what is the $p$-value? Add your answer in bCourses and round it to 3 digits after the decimal point."
   ]
  },
  {
   "cell_type": "code",
   "execution_count": null,
   "metadata": {},
   "outputs": [],
   "source": [
    "# Add your code below\n",
    "\n",
    "..."
   ]
  },
  {
   "cell_type": "markdown",
   "metadata": {},
   "source": [
    "<font color='red'>**Question 10.**</font> What is the appropriate conclusion based on the $t$-test at the 0.05 significance level? Select your answer(s) from the options in bCourses.\n",
    "\n",
    "If you did the calculations correctly, you should observe a higher $p$-value for the subsample than that of the full sample. But why?\n",
    "\n",
    "It is interesting to note the sample mean of `ammonia_last` is higher than that of the full sample. Thus, looking only at the sample means, one might be tempted to say that the subsample shows stronger evidence that $\\mu>0.040$ and thus stronger evidence against $H_0: \\mu=0.040$.\n",
    "\n",
    "However, we obtained a higher $p$-value based on the subsample, indicating the opposite: a higher $p$-value implies that the sample is more likely if the null were true $H_0: \\mu=0.040$. The reason for this is that the small sample has much more uncertainty than the full sample (due to the smaller sample size), which results in more spread for the null distribution, and thus higher $p$-value in this case. The only way we could quantify this uncertainty and take it into consideration while making decisions is through proper statistical tests. That's why we perform hypothesis testing."
   ]
  },
  {
   "cell_type": "markdown",
   "metadata": {},
   "source": [
    "## Small-Sample Tests (Non-Normal Sample)\n",
    "\n",
    "In the lecture, we mentioned that when the population standard deviation is unknown and the sample size is small, the $t$-test is fully applicable **only if the population is normally distributed**. Just like estimating confidence intervals for non-normal distributions and small samples can be challenging, performing hypothesis testing for non-normal distributions and small samples can be challenging.\n",
    "\n",
    "In this case, we can perform hypothesis testing using bootstrapped confidence intervals."
   ]
  },
  {
   "cell_type": "markdown",
   "metadata": {},
   "source": [
    "### Bootstrapping \n",
    "\n",
    "Instead of using $p$-values to make decisions for hypothesis testing, we can calculate confidence intervals based on the sample and check if the null hypothesis falls within the confidence interval. If the null hypothesized value $H_0:\\mu=0.040$ is within the confidence interval, we fail to reject $H_0$.\n",
    "Otherwise, if the null hypothesized value $H_0:\\mu=0.040$ is not within the confidence interval, we reject $H_0$.\n",
    "\n",
    "In Lab 08, we saw how we can use bootstrapping to calculate confidence intervals for any estimate without making assumptions on the distribution of the data (or any assumptions at all!). \n",
    "\n",
    "Similarly, we can use bootstrapping to calculate confidence intervals and make decisions for hypothesis testing. If the significance level for hypothesis testing is $\\alpha$, the associated confidence interval is $100(1-\\alpha)\\%$.\n",
    "\n",
    "Let's select a total of **5000** bootstrap samples from `ammonia_last` and calculate the mean of each sample. Run the code cell below. Note that here we are specifying `random.seed(99)`, so everyone will get the same answer."
   ]
  },
  {
   "cell_type": "code",
   "execution_count": null,
   "metadata": {},
   "outputs": [],
   "source": [
    "#set the random seed equal to 99\n",
    "random.seed(99)\n",
    "\n",
    "# specify the total number of samples to create\n",
    "n_samples = 5000\n",
    "\n",
    "# create an empty array to save the means of each sample\n",
    "bootstrap_means= []\n",
    "\n",
    "# loop through a total of n_samples times\n",
    "for i in range(n_samples):\n",
    "    \n",
    "    # select a random sample of the same size as the data and with replacement\n",
    "    bootstrapped_sample = random.choices(sorted(ammonia_last), k=len(ammonia_last))\n",
    "    \n",
    "    # calculate the sample mean\n",
    "    ammonia_sample_mean = np.mean(bootstrapped_sample)\n",
    "    \n",
    "    # append the mean value to save all the means\n",
    "    bootstrap_means = np.append(bootstrap_means, ammonia_sample_mean)"
   ]
  },
  {
   "cell_type": "markdown",
   "metadata": {},
   "source": [
    "In the code cell below, plot the following in a single figure:\n",
    "\n",
    "1. Plot a histogram of `bootstrap_means` using `bins=15`.\n",
    "2. Compute the appropriate confidence interval using the bootstrapped means for testing $H_1: \\mu > 0.040$ at the 0.05 significance level\n",
    "3. Plot vertical red line(s) corresponding to the confidence interval (refer to Lab 08)\n",
    "4. Plot the value of the null hypothesis $H_0: \\mu = 0.040$\n",
    " * Use the following line of code for step 4: `plt.scatter(0.04, 0, color='magenta', s=50, clip_on=False)`\n",
    "    \n",
    "Make sure you label the axes correctly. Also, add a title. After generating the plot, right click on it and click 'Save image as' to download your figure as an image.\n",
    "\n",
    "<font color='red'>**Question 11.**</font> Upload your figure to bCourses using the instructions there.\n",
    "\n",
    "<font color='red'>**Question 12.**</font> What is the appropriate conclusion based on the bootstrapped confidence interval? Select your answer(s) from the options in bCourses."
   ]
  },
  {
   "cell_type": "code",
   "execution_count": null,
   "metadata": {},
   "outputs": [],
   "source": [
    "# Add your code below\n",
    "\n",
    "..."
   ]
  },
  {
   "cell_type": "markdown",
   "metadata": {},
   "source": [
    "## Difference in Means\n",
    "\n",
    "After doing more research, you find out that a nearby field has recently begun using a new fertilizer, which the CalEPA scientists suspect may be the source of increased ammonia concentration in the river. The last 10 ammonia measurements (which we saved as `ammonia_last`) were taken **after** the nearby field has begun using the new fertilizer. The **first 15** ammonia measurements were taken **before** the nearby field has begun using the new fertilizer. So, you are interested in testing if the mean ammonia amount has changed after the nearby field has begun using the new fertilizer. \n",
    "\n",
    "Run the code below to select the **first 15** ammonia measurements and save it as a new variable `ammonia_first`."
   ]
  },
  {
   "cell_type": "code",
   "execution_count": null,
   "metadata": {},
   "outputs": [],
   "source": [
    "# run the code below to select the first 15 ammonia measurements.\n",
    "\n",
    "ammonia_first=ammonia[:15]"
   ]
  },
  {
   "cell_type": "markdown",
   "metadata": {},
   "source": [
    "Let $\\mu_F$ be the average population ammonia levels before the nearby field has begun using the new fertilizer (corresponding sample is `ammonia_first`) and let $\\mu_L$ be the average population ammonia levels after the nearby field has begun using the new fertilizer (corresponding sample is `ammonia_last`). You are interested in testing whether the new fertilizer may be the source of increased ammonia concentration in the river, and thus, whether $\\mu_L>\\mu_F$. Therefore, our null and alternative hypotheses are as follows:\n",
    "\n",
    "**$H_0: \\mu_L = \\mu_F$**\n",
    "\n",
    "**$H_1: \\mu_L > \\mu_F$**\n",
    "\n",
    "<font color='red'>**Question 13.**</font> Based on the samples `ammonia_last` and `ammonia_first`, calculate a point estimate for $\\mu_L-\\mu_F$. Add your answer in bCourses and round it to 3 digits after the decimal point."
   ]
  },
  {
   "cell_type": "code",
   "execution_count": null,
   "metadata": {},
   "outputs": [],
   "source": [
    "# Add your code below\n",
    "\n",
    "..."
   ]
  },
  {
   "cell_type": "markdown",
   "metadata": {},
   "source": [
    "### Hypothesis Testing for Difference in Means\n",
    "\n",
    "Because both samples here are small (10 and 15 samples), we cannot use the central limit theorem to approximate the distribution of the sample means as normal. \n",
    "\n",
    "The only exception is if the underlying population is normal. In this case, the distribution of the sample means would be a $t$-distribution and the distribution of the difference in means can also be approximated as a $t$-distribution. There are formulas to perform this hypothesis test on the difference in means from small samples, but we haven't covered them in this course.\n",
    "\n",
    "We will therefore use existing functions to perform the above hypothesis test for difference in means using small samples. We will use the following function: [`ttest_ind(a, b, equal_var, alternative)`](https://docs.scipy.org/doc/scipy/reference/generated/scipy.stats.ttest_ind.html#scipy.stats.ttest_ind)\n",
    "\n",
    "* `a` is the first observed sample\n",
    "* `b` is the second observed sample\n",
    "* `equal_var`: if `True` (default), the test assumes equal population variances for `a` and `b`. If `False`, the test does not assume equal population variances for `a` and `b`. The best practice is to assume the variances to be unequal unless it is quite certain that they are equal. So, it is recommended to specify this as 'False'.\n",
    "* `alternative` takes on the following values:\n",
    "    1. ‘two-sided’: $H_1: \\mu_a \\neq \\mu_b$\n",
    "    2. ‘greater’: $H_1: \\mu_a > \\mu_b$\n",
    "    3. ‘less’: $H_1: \\mu_a < \\mu_b$\n",
    "\n",
    "**Note that the order of the samples, `a` and `b` is important for one-sided tests. If you use `altenrative='greater'`, the test will be performed for $H_1: \\mu_a > \\mu_b$, where $\\mu_a$ is the population mean corresponding to the first input, `a`, and $\\mu_b$ is the population mean corresponding to the second input, `b`.**\n",
    "\n",
    "The test requires that the two samples `a` and `b` be independent. \n",
    "\n",
    "<font color='red'>**Question 14.**</font> Using `ttest_ind()` and **$H_1: \\mu_L > \\mu_F$**, what is the $p$-value? Assume that the samples are independent and that their populations **do not have equal variance**. Add your answer in bCourses and round it to 3 digits after the decimal point.\n",
    "\n",
    "<font color='red'>**Question 15.**</font> What is the appropriate conclusion based on the two-sample $t$-test at the 0.05 significance level? Select your answer(s) from the options in bCourses."
   ]
  },
  {
   "cell_type": "code",
   "execution_count": null,
   "metadata": {},
   "outputs": [],
   "source": [
    "# Add your code below\n",
    "\n",
    "..."
   ]
  },
  {
   "cell_type": "markdown",
   "metadata": {},
   "source": [
    "## Extra: Bootstrapping Difference in Means\n",
    "\n",
    "As previously mentioned, $t$-tests require that the underlying population be normal, which is not always true. In this case we can perform bootstrapping to get confidence intervals and reach a conclusion for the hypothesis testing. Our hypotheses were: \n",
    "\n",
    "**$H_0: \\mu_L = \\mu_F$**\n",
    "\n",
    "**$H_1: \\mu_L > \\mu_F$**\n",
    "\n",
    "We can re-write them as follows:\n",
    "\n",
    "**$H_0: \\mu_L - \\mu_F =0 $**\n",
    "\n",
    "**$H_1: \\mu_L - \\mu_F >0$**\n",
    "\n",
    "To perform the test, we can select a bootstrap sample from `ammonia_last` and another bootstrap sample from `ammonia_first`. We can then compute the difference of the means of the bootstrapped samples, and this would be one sample for $\\mu_L - \\mu_F$. If we repeat this 5000 times, we will get 5000 bootstrapped samples for the difference in means. Then, we can compute the appropriate confidence interval for $\\mu_L - \\mu_F$ based on $\\alpha$ and the alternative hypothesis. Finally, if the value $\\mu_L - \\mu_F =0 $ is within the bootstrapped difference in means, we fail to reject $H_0$.\n",
    "Otherwise, if the null hypothesized value is not within the confidence interval, we reject $H_0$.\n",
    "\n",
    "The beauty of this is that we don't have to make any assumptions on the distributions or whether the populations have equal variances, or any other assumptions.\n",
    "\n",
    "Read then run the code below, which implements the steps above."
   ]
  },
  {
   "cell_type": "code",
   "execution_count": null,
   "metadata": {},
   "outputs": [],
   "source": [
    "#set the random seed equal to 99\n",
    "random.seed(99)\n",
    "\n",
    "# specify the total number of samples to create\n",
    "n_samples = 5000\n",
    "\n",
    "# create an empty array to save the difference in means\n",
    "bootstrap_means_diff= []\n",
    "\n",
    "# loop through a total of n_samples times\n",
    "for i in range(n_samples):\n",
    "    \n",
    "    # select a random sample of the same size as the data and with replacement from ammonia_last\n",
    "    bootstrapped_sample_last = random.choices(sorted(ammonia_last), k=len(ammonia_last))\n",
    "    \n",
    "    # select a random sample of the same size as the data and with replacement from ammonia_first\n",
    "    bootstrapped_sample_first = random.choices(sorted(ammonia_first), k=len(ammonia_first))\n",
    "    \n",
    "    # calculate the difference in sample means\n",
    "    ammonia_sample_mean_diff = np.mean(bootstrapped_sample_last)-np.mean(bootstrapped_sample_first)\n",
    "    \n",
    "    # append the difference in sample means\n",
    "    bootstrap_means_diff = np.append(bootstrap_means_diff, ammonia_sample_mean_diff)\n",
    "\n",
    "# get the 5th percentile of the bootstrapped difference in means\n",
    "# Because H1 has a \">\" sign, the appropriate confidence interval is: (low, infinity)\n",
    "# So, we only need one value for the confidence interval\n",
    "# for alpha = 0.05, this would be a 95% lower-confidence interval\n",
    "# Thus, we want the 5th percentile of the bootstrapped values\n",
    "low = np.percentile(bootstrap_means_diff, 5)\n",
    "\n",
    "# divide bootsrapped values into two groups: one within CI and one outside CI\n",
    "bootstrap_means_diff_within = bootstrap_means_diff[bootstrap_means_diff>low] # CI is (low, infinity)\n",
    "bootstrap_means_diff_outside = bootstrap_means_diff[bootstrap_means_diff<low]\n",
    "\n",
    "# plot a histogram of the bootstrapped means\n",
    "plt.hist(bootstrap_means_diff_within, bins=11, color='g') # plot those within CI in green\n",
    "plt.hist(bootstrap_means_diff_outside, bins=5, color='m') # plot those outside CI in magenta\n",
    "\n",
    "# plot magenta vertical lines at the 5th percentile, which is the cutoff for the CI\n",
    "plt.vlines(low, 0, 1000, 'm', ':', lw=2)\n",
    "\n",
    "# plot the null hypothesis value using  a blue dot\n",
    "plt.scatter(0.0, 0, color='blue', s=50, clip_on=False)\n",
    "\n",
    "# specify y limits\n",
    "plt.ylim(0, 1000)\n",
    "\n",
    "# label axes\n",
    "plt.xlabel('Difference in Means, $\\mu_L-\\mu_F$ (ppm)')\n",
    "plt.ylabel('Frequency')\n",
    "\n",
    "# display plot\n",
    "plt.show()\n",
    "\n",
    "# Print the interval\n",
    "print('Bootsrtapped 95% CI: (' + str(np.round(low,3)) + ', infinity)')\n",
    "\n",
    "# Print result\n",
    "if 0<low:\n",
    "    print('Null Hypothesis is not within CI: Reject Null Hypothesis')\n",
    "else:\n",
    "    print('Null Hypothesis is within CI: Fail to reject Null Hypothesis')\n",
    "\n",
    "plt.show()"
   ]
  },
  {
   "cell_type": "markdown",
   "metadata": {},
   "source": [
    "The histogram shows all the bootstrapped values for the difference in means (total of 5000 values). The dotted vertical magenta line corresponds to the cutoff value for the confidence interval. Because this is a one-sided test with an alternative hypothesis having $>$ sign, the appropriate confidence interval should be one-sided with also the form $>$ some cutoff value. The bootstrapped values are thus divided into two groups:\n",
    "1. Those in green are within the confidence interval (upper 95% of the bootstrapped means)\n",
    "2. Those in magenta are outside the confidence interval (lower 5% of the bootstrapped means)\n",
    "\n",
    "Then shown using the blue dot is the null hypothesized value $\\mu_L - \\mu_F =0 $. We can see that for the 0.05 significance level, the blue dot falls outside the confidence interval, and thus, we reject the null hypothesis and conclude that the mean amount of ammonia increased after using the new fertilizer: $\\mu_L>\\mu_F$.\n",
    "\n",
    "You don't have to answer any questions for this last part."
   ]
  },
  {
   "cell_type": "markdown",
   "metadata": {},
   "source": [
    "## Submit your work!\n",
    "\n",
    "<font color='red'>**Question 16.** </font> Submit your PDF file.\n",
    "\n",
    "I recommend that you save your .ipynb file and keep a copy of it so that you can refer to it in the future (e.g., when working on the project). \n",
    "\n",
    "Once done with answering ALL questions and you are ready to submit the quiz, follow these steps:\n",
    "\n",
    "1. Run all cells in the notebook. You can do this by going to Cell > Run All. This makes sure that all your visuals and answers show up in the file you submit.\n",
    "\n",
    "2. Then, go to \"File > Download as > PDF via LaTex(.pdf)\" to generate a PDF file or PDF via HTML(.html). Name the PDF file with your last name \"Lastname.pdf\". Even if you click on PDF via HTML(.html), make sure that the downloaded file is '.pdf'.\n",
    "\n",
    "3. If you have trouble generating the PDF file from Jupyter notebook, use [datahub.berkeley.edu](http://datahub.berkeley.edu). Log in with your CalNet credentials. Upload the ipynb file with your outputs and results to Juptrer. Then follow step 2.\n",
    "\n",
    "4. Upload the PDF file to the bCourses quiz (more instructions there).\n",
    "\n",
    "\n",
    "**Not submitting a PDF file will result in a grade of 0 on this lab assignment.**\n",
    "**You will also receive a 0 if your answers to this quiz are inconsistent with your PDF.**"
   ]
  }
 ],
 "metadata": {
  "kernelspec": {
   "display_name": "Python 3 (ipykernel)",
   "language": "python",
   "name": "python3"
  },
  "language_info": {
   "codemirror_mode": {
    "name": "ipython",
    "version": 3
   },
   "file_extension": ".py",
   "mimetype": "text/x-python",
   "name": "python",
   "nbconvert_exporter": "python",
   "pygments_lexer": "ipython3",
   "version": "3.9.13"
  }
 },
 "nbformat": 4,
 "nbformat_minor": 4
}
