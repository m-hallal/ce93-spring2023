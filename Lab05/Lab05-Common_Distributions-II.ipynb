{
 "cells": [
  {
   "cell_type": "markdown",
   "metadata": {},
   "source": [
    "# CE 93: Engineering Data Analysis\n",
    "# LAB 05 Common Distributions II"
   ]
  },
  {
   "cell_type": "markdown",
   "metadata": {},
   "source": [
    "**Full Name:** *replace text here*"
   ]
  },
  {
   "cell_type": "markdown",
   "metadata": {},
   "source": [
    "## Instructions \n",
    "\n",
    "Welcome to Lab 05! \n",
    "\n",
    "Please save your work after every question! At the end, you will have to submit your Jupyter Notebook as a PDF file in the bCourses quiz. The notebook should be consistent with your quiz answers. Not submitting a PDF file will result in a grade of 0 on the lab assignment. You will also receive a 0 if your answers to the quiz are inconsistent with your PDF.\n",
    "\n",
    "If you see cells with \"...\" make sure to replace the \"...\" with your code even if they are not listed with a \"Question\". \n",
    "Please remember to label all axes with the quantity and units being plotted. \n",
    "\n",
    "Any part listed as a \"<font color='red'>**Question**</font>\" should be answered in the bCourses quiz to receive credit."
   ]
  },
  {
   "cell_type": "markdown",
   "metadata": {},
   "source": [
    "We will use the following Python packages:\n",
    "\n",
    "* NumPy\n",
    "* MatPlotLib\n",
    "* scipy.stats"
   ]
  },
  {
   "cell_type": "markdown",
   "metadata": {},
   "source": [
    "## Load the required libraries \n",
    "\n",
    "The following code loads the required libraries. Run this cell first."
   ]
  },
  {
   "cell_type": "code",
   "execution_count": null,
   "metadata": {},
   "outputs": [],
   "source": [
    "# import python library / packages \n",
    "import numpy as np                           # ndarrays for gridded data\n",
    "import matplotlib.pyplot as plt              # plotting\n",
    "from scipy.stats import *                    # common distributions"
   ]
  },
  {
   "cell_type": "markdown",
   "metadata": {},
   "source": [
    "## Linear Combinations\n",
    "\n",
    "In the lecture, we defined a linear function of a random variable as: $Y= aX+b$, where $a$ and $b$ and constants. \n",
    "\n",
    "In this case:\n",
    "\n",
    "* $E(Y)=aE(X)+b$\n",
    "* $Var(Y)=a^2Var(X)$\n",
    "\n",
    "When a random variable is a linear function of more than one random variable, it is known as a linear combination. A linear combination of random variables is also a random variable. For example, if $Z = c_1 X_1 + c_2 X_2$, where $X_1$ and $X_2$ are random variables and $c_1$ and $c_2$ are constants, then $Z$ is a linear combination.\n",
    "\n",
    "In this case:\n",
    "\n",
    "* For any $X_1$ and $X_2$: $E(Z)=c_1E(X_1)+c_2E(X_2)$\n",
    "* Only if $X_1$ and $X_2$ are independent: $Var(Z)=c_1^2Var(X_1)+c_2^2Var(X_2)$\n",
    "\n",
    "The concept of linear combinations can be extended to more than two random variables.\n",
    "\n",
    "## About Lab 05\n",
    "\n",
    "BART (Bay Area Rapid Transit) is a main form of public transportation for many Bay Area citizens to get around and commute. In this lab we are going to analyze the travel time for a single BART train.\n",
    "\n",
    "<img src=\"BARTcar.png\">\n",
    "\n",
    "*Source: https://www.bart.gov/news/articles/2017/news20170718-0*\n",
    "\n",
    "\n",
    "## Simple BART Trip\n",
    "\n",
    "In Lab 04, we used `Python` to easily calculate numerical summaries for common distributions. For example, we can get the expected value of a random variable $W \\sim Poisson(mu)$ using `poisson.mean(mu, loc=0)`, and likewise to get the median `poisson.median(mu, loc=0)`, variance `poisson.var(mu, loc=0)`, and standard deviation `poisson.std(mu, loc=0)`.\n",
    "\n",
    "Read the documentation of the normal distribution. Make sure you understand the inputs for this distribution, which might use different symbols or be different from the ones we defined in the lecture. Link to documentation: [`scipy.stats.norm`](https://docs.scipy.org/doc/scipy/reference/generated/scipy.stats.norm.html)\n",
    "\n",
    "Assume that your BART trip includes traveling 2 segments (i.e., you exist on the second stop), and that the travel time for the first segment is a random variable $X_1 \\sim N(\\mu_{X_1}, \\sigma_{X_1})$, the travel time for the second segment is a random variable $X_2 \\sim N(\\mu_{X_2}, \\sigma_{X_2})$, and the stopping time at the first stop is a constant $C$. Then, the total travel time of your trip $T_1$ can be written as:\n",
    "\n",
    "$T_1=X_1+X_2+C$\n",
    "\n",
    "<font color='red'>**Question 1.**</font> If $X_1$ and $X_2$ are independent, which statements can be used in `Python` to correctly calculate the parameters of $T_1$. Select your answer(s) form the quiz in bCourses."
   ]
  },
  {
   "cell_type": "markdown",
   "metadata": {},
   "source": [
    "## Compound BART Trip\n",
    "\n",
    "Now let's look at a more complex, but similar, problem. We will be looking at the time it takes for a BART car to get from North Berkeley to San Leandro on the <font color='orange'>**Orange Line**</font>.\n",
    "\n",
    "<img src=\"BARTmap.png\" width=\"1000\">\n",
    "\n",
    "\n",
    "*Source: https://www.bart.gov/schedules*\n",
    "\n",
    "Our trip time begins once the BART car departs from North Berkeley, and ends once it arrives at San Leandro. \n",
    "\n",
    "During this trip:\n",
    "- The train travels 9 segments\n",
    "- The train hence makes 8 intermediate stops\n",
    "- The train picks up a total of 105 passengers\n",
    "- The train encounters 3 transfer stations. \n",
    "- If another train is already parked at one of these 3 transfer stations when our BART train arrives, our total travel time will be longer.\n",
    "\n",
    "The total travel time of our train is composed of the following elements.\n",
    "- The time the train is in motion in each segment ($i$): $T_{Mi}$, where $i=1,2,...,9$.\n",
    "- Constant stopping time at each of the 8 intermediate stops: $C_1=30 sec$. \n",
    "- Random part of stopping time at each of the 8 intermediate stops ($j$): $X_j$, where $j=1,2,...,8$.\n",
    "- Boarding time of passenger $m$: $U_m$, where $m=1,2,...,105$. \n",
    "- $B_n$ denotes whether a transfer station $n$ is occupied by another train when our train arrives, where $n=1,2,3$.\n",
    "- Waiting time at each of the 3 transfer stations if the transfer station is occupied by another train: $C_2=60 sec$. \n",
    "\n",
    "All the random variables defined above are **independent** of each other. The distributions of these variables are shown below:\n",
    "\n",
    "|Variable|Distribution|\n",
    "|:-|:-|\n",
    "|$T_{Mi}$|$N(\\mu=240 sec, \\sigma = 15 sec)$|\n",
    "|$C_1$|$30 $ sec/stop|\n",
    "|$X_j$|$LN(\\mu=2, \\sigma = 1)$|\n",
    "|$U_m$|$U(a=1 sec, b= 20 sec)$|\n",
    "|$B_n$|$Bern(p = 0.5)$|\n",
    "|$C_2$|$60 $ sec/station if the transfer station is occupied|\n",
    "\n",
    "So, the full travel time can be written as follows:\n",
    "\n",
    "$T=(T_{M1}+...+T_{M9}) + 8 \\times C_1 + (X_1+...+X_8)+(U_1+...+U_{105})+C_2 \\times (B_1+B_2+B_3)$\n",
    "\n",
    "<font color='red'>**Question 2.**</font> What is the expected value of the full travel time, $E(T)$, in seconds? You have to calculate this in `Python` using methods like `norm.mean()`. Round your answer to the nearest **integer**. Add your answer in the bCourses quiz.\n",
    "\n",
    "*(Hint: Your answer should be between 3300 and 4000)*\n",
    "\n",
    "Keep in mind that $T$ is a linear combination of several independent random variables. Write down the equation of $E(T)$ based on the equation of $T$, then calculate $E(T)$ in `Python`.\n",
    "\n",
    "In the `scipy.stats` sub-package, the distributions you will need are: (make sure you understand how the inputs are defined for each distribution)\n",
    "\n",
    "[`scipy.stats.norm`](https://docs.scipy.org/doc/scipy/reference/generated/scipy.stats.norm.html)(loc=$\\mu$, scale=$\\sigma$)\n",
    "\n",
    "[`scipy.stats.lognorm`](https://docs.scipy.org/doc/scipy/reference/generated/scipy.stats.lognorm.html)(s=$\\sigma$, scale=$e^\\mu$)\n",
    "\n",
    "[`scipy.stats.uniform`](https://docs.scipy.org/doc/scipy/reference/generated/scipy.stats.uniform.html)(loc=$a$, scale=$b-a$)\n",
    "\n",
    "[`scipy.stats.bernoulli`](https://docs.scipy.org/doc/scipy/reference/generated/scipy.stats.bernoulli.html)(p=$p$)"
   ]
  },
  {
   "cell_type": "code",
   "execution_count": null,
   "metadata": {},
   "outputs": [],
   "source": [
    "#insert code to calculate E(T)\n",
    "\n",
    "T_mean = ..."
   ]
  },
  {
   "cell_type": "markdown",
   "metadata": {},
   "source": [
    "<font color='red'>**Question 3.**</font> What is the standard deviation of the full travel time, $\\sigma_T$, in seconds? You have to calculate this in `Python` using methods like `norm.var()`. Round your final answer to the nearest **integer**. Add your answer in the bCourses quiz.\n",
    "\n",
    "*(Hint: Your answer should be between 80 and 150)*\n",
    "\n",
    "Keep in mind that $T$ is a linear combination of several independent random variables. Write down the equation of $Var(T)$ based on the equation of $T$, then calculate $Var(T)$ in `Python` to get $\\sigma_T$."
   ]
  },
  {
   "cell_type": "code",
   "execution_count": null,
   "metadata": {},
   "outputs": [],
   "source": [
    "#insert code to calculate Sigma(T)\n",
    "# calculate variance first and then use variance to get standard deviation\n",
    "\n",
    "T_var = ..."
   ]
  },
  {
   "cell_type": "markdown",
   "metadata": {},
   "source": [
    "## Distribution of Simple BART Trip\n",
    "\n",
    "In Question 1 (trip with 2 segments only) we defined $X_1 \\sim N(\\mu_{X_1}, \\sigma_{X_1})$, $X_2 \\sim N(\\mu_{X_2}, \\sigma_{X_2})$, and a constant $C$. The total travel time of the trip $T_1$ was:\n",
    "\n",
    "$T_1=X_1+X_2+C$\n",
    "\n",
    "\n",
    "<font color='red'>**Question 4.**</font> If $X_1$ and $X_2$ are independent, what can you say about the distribution of $T_1$? Select your answer from the options in bCourses."
   ]
  },
  {
   "cell_type": "markdown",
   "metadata": {},
   "source": [
    "## Simulation\n",
    "\n",
    "If you are confused, let's find out the answer through simulation. If you are not confused and feel good about your answer, well, tag along and learn about simulation (you need it to answer the next questions!)\n",
    "\n",
    "For all the common distributions in `scipy.stats`, we can generate a random sample using the `.rvs()` method. \n",
    "\n",
    "For example `norm.rvs(loc=5, scale=1, size=100)` will return a random sample of size 100 from $X \\sim N(\\mu=5, \\sigma=1)$. \n",
    "\n",
    "The code below generates 100 random values from $X \\sim N(\\mu=5, \\sigma=1$). Then, the mean and standard deviation of the random sample are calculated. \n",
    "\n",
    "These values should be **close** to the mean and standard deviation of the distribution $X \\sim N(\\mu=5, \\sigma=1)$. The sample statistics are not exactly equal to those of the population due to sampling variation (values differ somewhat from the full population).\n",
    "\n",
    "Rerun the same cell multiple times. Each time, a new random sample of size 100 will be generated, and the sample mean and standard deviation will slightly change due, again, to sampling variation (values differ somewhat between samples)."
   ]
  },
  {
   "cell_type": "code",
   "execution_count": null,
   "metadata": {},
   "outputs": [],
   "source": [
    "# Run this code cell to generate 100 random samples from N(5,1) and calculate the sample mean and standard deviation\n",
    "\n",
    "# Generate 100 random values from N(5,1)\n",
    "random_sample = norm.rvs(loc=5, scale=1, size=100)\n",
    "\n",
    "# calculate sample mean\n",
    "print('The sample mean is: '+ str(np.round(np.mean(random_sample),3)))\n",
    "\n",
    "# calculate sample standard deviation\n",
    "print('The sample standard deviation is: '+ str(np.round(np.std(random_sample, ddof=1),3)))"
   ]
  },
  {
   "cell_type": "markdown",
   "metadata": {},
   "source": [
    "Sometimes, we wish to 'control' this randomness. For example, in our case, to make sure that everyone gets the same answer so that we can automatically grade this lab, it would be easier if everyone gets the 'same random' answer. A more formal name for this would be 'pseudo random'.\n",
    "\n",
    "We can achieve this using the `seed()` method. For example, at the beginning of the next code cell, we have added the following line: `np.random.seed(123)`. \n",
    "\n",
    "A random seed specifies the starting point where a computer generates random numbers. So by specifying a seed number at the beginning of our cell, every time, the computer starts from the same point, and gives the same 'random numbers'. If we do not specify the seed number, every time, the computer will likely start from different points, and give different 'random numbers'.\n",
    "\n",
    "Re-run the code cell below multiple times. The answers should be the same every time!\n",
    "\n",
    "If you delete `np.random.seed(123)`, the answers will likely change every time you rerun the code."
   ]
  },
  {
   "cell_type": "code",
   "execution_count": null,
   "metadata": {},
   "outputs": [],
   "source": [
    "# Run this code cell to see what happens if we specify np.random.seed()\n",
    "\n",
    "#set the random seed equal to 123\n",
    "np.random.seed(123)\n",
    "\n",
    "# Generate 100 random values from N(5,1)\n",
    "random_sample = norm.rvs(loc=5, scale=1, size=100)\n",
    "\n",
    "# calculate sample mean\n",
    "print('The sample mean is: '+ str(np.round(np.mean(random_sample),3)))\n",
    "\n",
    "# calculate sample standard deviation\n",
    "print('The sample standard deviation is: '+ str(np.round(np.std(random_sample, ddof=1),3)))"
   ]
  },
  {
   "cell_type": "markdown",
   "metadata": {},
   "source": [
    "## Distribution of Simple BART Trip Using Simulation\n",
    "\n",
    "Now lets go back to our simple BART trip...\n",
    "\n",
    "$T_1=X_1+X_2+C$\n",
    "\n",
    "Let $X_1 \\sim N(\\mu=245 sec, \\sigma=15 sec)$, $X_2 \\sim N(\\mu=200sec, \\sigma=20sec)$, and $C = 30$ sec.\n",
    "\n",
    "We can simulate values for $T_1$ by simulating 5000 random values for $X_1$ and 5000 random values for $X_2$.\n",
    "\n",
    "Read then run the code cell below to see how we can generate a random sample for $T_1$."
   ]
  },
  {
   "cell_type": "code",
   "execution_count": null,
   "metadata": {},
   "outputs": [],
   "source": [
    "# Run the code cell below to generate a random sample for T1\n",
    "\n",
    "# set the seed number\n",
    "np.random.seed(123)\n",
    "\n",
    "# simulate 5000 values from X1 ~ N(245, 15)\n",
    "X1 = norm.rvs(loc=245, scale=15, size=5000)\n",
    "\n",
    "# simulate 5000 values from X2 ~ N(200, 20)\n",
    "X2 = norm.rvs(loc=200, scale=20, size=5000)\n",
    "\n",
    "# T1 = X1 + X2 + 30\n",
    "# Add X1 + X2 + 30 to get a sample of size 5000 for T1\n",
    "T1_sample = X1 + X2 + 30\n",
    "\n",
    "# get the size of T1_sample\n",
    "print('Size of T1_sample: ' + str(np.size(T1_sample)))\n",
    "\n",
    "# Calculate statistics for T1\n",
    "\n",
    "# calculate sample mean\n",
    "print('The sample mean is: '+ str(np.round(np.mean(T1_sample),2)))\n",
    "\n",
    "# calculate sample standard deviation\n",
    "print('The sample standard deviation is: '+ str(np.round(np.std(T1_sample, ddof=1),2)))"
   ]
  },
  {
   "cell_type": "markdown",
   "metadata": {},
   "source": [
    "Now you have a random sample for $T_1$. In the code cell above, we calculated sample statistics for $T_1$. \n",
    "\n",
    "You can substitute the parameters from $X_1 \\sim N(\\mu_{X_1}=245 sec, \\sigma_{X_1}=15 sec)$, $X_2 \\sim N(\\mu_{X_2}=200sec, \\sigma_{X_2}=20sec)$, and $C = 30$ sec into the different equations from Question 4 to see which option matches the summary statistics computed above from simulation.\n",
    "\n",
    "Note that the values might not **perfectly match**, but they should be very close. Remember, a sample gives us an estimate of the parameters and there is sampling variation.\n",
    "\n",
    "We can do much more with simulation. We can use simulation to approximate the probability density function, to calculate probabilities, and much more.\n",
    "\n",
    "So, let's plot the simulated histogram for $T_1$ and compare it with the probability density function of the distribution you selected in Question 4 to see how good the fit is.\n",
    "\n",
    "In the code cell below, do the following:\n",
    "1. Plot a **density** histogram of the simulated values of $T_1$, `T1_sample`, using `plt.hist()` with `bins=100`.\n",
    "2. Using your answer for Question 4, calculate $\\mu_{T_1}$ and $\\sigma_{T_1}$ with $X_1 \\sim N(\\mu=245 sec, \\sigma=15 sec)$, $X_2 \\sim N(\\mu=200sec, \\sigma=20sec)$, and $C = 30 sec$. For example, if you answered in Question 4: $T_1\\sim N\\left(\\mu_{X_1}+\\mu_{X_2},\\sigma_{X_1}+\\sigma_{X_2}\\right)$, then your equations in the code cell below should look like:\n",
    "    - `mu_T1 = 245 + 200`\n",
    "    - `sigma_T1 = 15 + 20`\n",
    "    \n",
    "The remainder of the code defines an array for the possible values of $T_1$ (saved as `t1`) and then plots the theoretical pdf of a normal distribution with the parameters you calculated."
   ]
  },
  {
   "cell_type": "code",
   "execution_count": null,
   "metadata": {},
   "outputs": [],
   "source": [
    "# Add your code below to plot the simulated and theoretical distrubtions of T1 (Only edit lines with ...)\n",
    "\n",
    "# Plot density histogram of T1_sample\n",
    "...\n",
    "\n",
    "# using your answer for Question 4, calculate E(T1) using X1 ~ N(245, 15) and X2 ~ N(200, 20) and C=30\n",
    "mu_T1 = ...\n",
    "\n",
    "# using your answer for Question 4, calculate sigma(T1) using X1 ~ N(245, 15) and X2 ~ N(200, 20) and C=30\n",
    "sigma_T1 = ...\n",
    "\n",
    "# Plot a theoretical pdf for T1\n",
    "\n",
    "# define possible values for T1 to calculate their pdf\n",
    "t1 = np.linspace(400,550,100)\n",
    "\n",
    "# plot the pdf\n",
    "plt.plot(t1, norm.pdf(t1, loc=mu_T1, scale=sigma_T1), c = 'r', linewidth=3, \\\n",
    "         label='N ($\\mu$='+str(mu_T1)+',$\\sigma$='+str(int(sigma_T1))+')')\n",
    "\n",
    "# add legend\n",
    "plt.legend()\n",
    "\n",
    "# label axes\n",
    "plt.xlabel('Travel Time for Simple BART Trip (sec)')\n",
    "plt.ylabel('Density')\n",
    "plt.title('Theoretical and Simulated Distributions for $T_1$')\n",
    "\n",
    "# display plot\n",
    "plt.show()"
   ]
  },
  {
   "cell_type": "markdown",
   "metadata": {},
   "source": [
    "The red line in the plot above (which corresponds to the theoretical distribution) should be in good agreement with the density histogram of the simulated data if you have correctly specified the parameters and correctly created the density plot.\n",
    "\n",
    "Keep in mind that we were able to get the density histogram using simulation only, without making any assumptions! And we were still able to approximate, very well, the theoretical distribution of $T_1$.\n",
    "\n",
    "You do not have to submit any plots or answer any questions. However, make sure you understand what was done above to answer the next questions."
   ]
  },
  {
   "cell_type": "markdown",
   "metadata": {},
   "source": [
    "##  Probabilities of Simple BART Trip\n",
    "\n",
    "Recall that for the simple BART trip:\n",
    "- $X_1 \\sim N(\\mu=245 sec, \\sigma=15 sec)$\n",
    "- $X_2 \\sim N(\\mu=200sec, \\sigma=20sec)$\n",
    "- $C = 30 sec$\n",
    "- $T_1=X_1+X_2+C$\n",
    "\n",
    "### Probability Using Theoretical Distribution\n",
    "\n",
    "<font color='red'>**Question 5.**</font> Using the **theoretical** distribution of $T_1$ (i.e., your answer to Question 4), what is the probability that the total travel time is more than 520 seconds? Round your final answer to 3 digits after the decimal point. Add your answer in the bCourses quiz.\n",
    "\n",
    "*Hint: Use `norm.cdf(x, loc, scale)` where `x` is the value you want to compute the cdf for, and `loc` and `scale` are the distribution parameters, which should be set equal to the parameters of $T_1$ based on your answer to Question 4 (you should have already calculated these in the code cell above).*"
   ]
  },
  {
   "cell_type": "code",
   "execution_count": null,
   "metadata": {},
   "outputs": [],
   "source": [
    "# add your code below\n",
    "\n",
    "..."
   ]
  },
  {
   "cell_type": "markdown",
   "metadata": {},
   "source": [
    "### Probability Using Simulation\n",
    "\n",
    "Recall that we simulated 5000 random values for $T_1$, which are saved as `T1_sample`.\n",
    "\n",
    "<font color='red'>**Question 6.**</font> Using the **simulated values** of $T_1$ what is the probability that the total travel time is more than 520 seconds? Round your final answer to 3 digits after the decimal point. Add your answer in the bCourses quiz. Refer to Lab 02 if you don't recall how to do this.\n",
    "\n",
    "*Hint: you simply have to count the frequency of the event and divide by the sample size.*"
   ]
  },
  {
   "cell_type": "code",
   "execution_count": null,
   "metadata": {},
   "outputs": [],
   "source": [
    "# add your code below\n",
    "\n",
    "..."
   ]
  },
  {
   "cell_type": "markdown",
   "metadata": {},
   "source": [
    "### What If We Had a Smaller Sample?\n",
    "\n",
    "Recall that we simulated 5000 random values for $T_1$. Copy the code in which we generated a random sample for $T_1$ and paste it to the code cell below. Make sure to copy the entire code cell and paste it, including **`np.random.seed(123)`**.\n",
    "\n",
    "Then, modify your code to generate only **100** random samples for $X_1$ and $X_2$ (by changing `size`). Name the new sample for $T_1$ with size 100 `T1_sample2`.\n",
    "\n",
    "<font color='red'>**Question 7.**</font> Using the **100 simulated values** of $T_1$ what is the probability that the total travel time is more than 520 seconds? Round your final answer to 3 digits after the decimal point. Add your answer in the bCourses quiz."
   ]
  },
  {
   "cell_type": "code",
   "execution_count": null,
   "metadata": {},
   "outputs": [],
   "source": [
    "# Add your code below\n",
    "\n",
    "..."
   ]
  },
  {
   "cell_type": "markdown",
   "metadata": {},
   "source": [
    "<font color='red'>**Question 8.**</font> Which probability estimate is closer to the theoretical value and why? Refer to bCourses to answer this question."
   ]
  },
  {
   "cell_type": "markdown",
   "metadata": {},
   "source": [
    "## Back to Compound BART Trip\n",
    "\n",
    "Simulation is more beneficial when the problem is more complex, such that it is not simple to obtain a theoretical solution, or when a theoretical solution does not actually exist.\n",
    "\n",
    "For the compound BART trip with many segments, we defined the full travel time as follows:\n",
    "\n",
    "$T=(T_{M1}+...+T_{M9}) + 8 \\times C_1 + (X_1+...+X_8)+(U_1+...+U_{105})+C_2 \\times (B_1+B_2+B_3)$\n",
    "\n",
    "|Variable|Distribution|\n",
    "|:-|:-|\n",
    "|$T_{Mi}$|$N(\\mu=240 sec, \\sigma = 15 sec)$|\n",
    "|$C_1$|$30 $ sec/stop|\n",
    "|$X_j$|$LN(\\mu=2, \\sigma = 1)$|\n",
    "|$U_m$|$U(a=1 sec, b= 20 sec)$|\n",
    "|$B_n$|$Bern(p = 0.5)$|\n",
    "|$C_2$|$60 $ sec/station if the transfer station is occupied|\n",
    "\n",
    "Run the code cell below to simulate a **single** value for $T$ by simulating a single value for all the distributions that form $T$."
   ]
  },
  {
   "cell_type": "code",
   "execution_count": null,
   "metadata": {},
   "outputs": [],
   "source": [
    "# simulate a single value for T\n",
    "\n",
    "# set the seed number\n",
    "np.random.seed(123)\n",
    "\n",
    "# Simulate values for TMi\n",
    "# Simulate 9 values from TM ~ N(240, 15)\n",
    "TM = norm.rvs(loc = 240, scale = 15, size = 9)\n",
    "\n",
    "# Simulate values for Xj\n",
    "# Simulate 8 values from X ~ LN(2, 1)\n",
    "X = lognorm.rvs(s=1, scale=np.exp(2), size=8)\n",
    "\n",
    "# Simulate values for Um\n",
    "# Simulate 105 values from U ~ U(1, 20)\n",
    "U = uniform.rvs(loc = 1, scale = 20-1, size=105)\n",
    "\n",
    "# Simulate values for Bn\n",
    "# Simulate 3 values from B ~ Bern(0.5)\n",
    "B = bernoulli.rvs(p = 0.5, size = 3)\n",
    "\n",
    "# Calculate T using its equation\n",
    "T =  sum(TM) + 8*30 + sum(X) + sum(U) + 60*sum(B)\n",
    "\n",
    "# print the simulated value of T\n",
    "print('A simulated value for the total travel time is: ' + str(np.round(T,3)) + ' sec')"
   ]
  },
  {
   "cell_type": "markdown",
   "metadata": {},
   "source": [
    "### Sample Statistics for $T$\n",
    "\n",
    "To get the distribution of $T$, we have to simulate many values. To do so, we need to use a for-loop. A for-loop is a set of instructions that is repeated, or iterated, for every value in a sequence. You can read more about it [here](https://pythonnumericalmethods.berkeley.edu/notebooks/chapter05.01-For-Loops.html?highlight=loop).\n",
    "\n",
    "Read, **understand**, and run the code cell below that generates 5000 values for $T$."
   ]
  },
  {
   "cell_type": "code",
   "execution_count": null,
   "metadata": {},
   "outputs": [],
   "source": [
    "# simulate 5000 values for T\n",
    "\n",
    "# set the seed number\n",
    "np.random.seed(123)\n",
    "\n",
    "# create an empty array T to save the simulated values\n",
    "T = np.array([])\n",
    "\n",
    "# simulate a value for T 5000 times, and each time, append the new value to array T\n",
    "for i in range(5000):\n",
    "    TM = norm.rvs(loc = 240, scale = 15, size = 9)\n",
    "    X = lognorm.rvs(s=1, scale=np.exp(2), size=8)\n",
    "    U = uniform.rvs(loc = 1, scale = 20-1, size=105)\n",
    "    B = bernoulli.rvs(p = 0.5, size = 3)\n",
    "    T = np.append(T, sum(TM) + 8*30 + sum(X) + sum(U) + 60*sum(B))\n",
    "    \n",
    "# get the size of T\n",
    "print('Size of T: ' + str(np.size(T)))\n",
    "\n",
    "# print the first 10 simulated values for T\n",
    "print('A sample of 10 simulated values for T: ' + str(np.round(T[:10], 1)))"
   ]
  },
  {
   "cell_type": "markdown",
   "metadata": {},
   "source": [
    "<font color='red'>**Question 9.**</font> What is the sample mean of the simulated $T$ values? Round your answer to the nearest **integer**. Add your answer in the bCourses quiz.\n",
    "\n",
    "<font color='red'>**Question 10.**</font> What is the sample standard deviation of the simulated $T$ values? Round your answer to the nearest **integer**. Add your answer in the bCourses quiz.\n",
    "\n",
    "Recall that you have calculated the theoretical values for $\\mu_T$ and $\\sigma_T$ in Questions 2 and 3. Go back and compare your answers. I hope you see how powerful simulation can be :)"
   ]
  },
  {
   "cell_type": "code",
   "execution_count": null,
   "metadata": {},
   "outputs": [],
   "source": [
    "# Add your code below\n",
    "\n",
    "..."
   ]
  },
  {
   "cell_type": "markdown",
   "metadata": {},
   "source": [
    "### Sample Probabilities of $T$\n",
    "\n",
    "Again, we can do much more with simulation. Without knowing the distribution of $T$ (or making ANY assumptions about it), we can estimate probabilities, pretty accurately. \n",
    "\n",
    "<font color='red'>**Question 11.**</font> Based on the simulated $T$ values, what is the probability that the full travel time is greater than 60 min AND less than 65 min? Round your answer to 3 digits after the decimal point. Add your answer in the bCourses quiz"
   ]
  },
  {
   "cell_type": "code",
   "execution_count": null,
   "metadata": {},
   "outputs": [],
   "source": [
    "# Add your code below\n",
    "\n",
    "..."
   ]
  },
  {
   "cell_type": "markdown",
   "metadata": {},
   "source": [
    "### Distribution of $T$\n",
    "\n",
    "In the lecture, we discussed five common continuous distributions:\n",
    "\n",
    "1. Exponential: time/distance between successive occurrences of a Poisson process\n",
    "2. Gamma: time/distance until the r $^{th}$ occurrence of a Poisson process\n",
    "3. Uniform: distribution when all outcomes are equally likely\n",
    "4. Normal: distribution of the sum of many random variables\n",
    "5. Lognormal: distribution of the product of many random variables\n",
    "\n",
    "<font color='red'>**Question 12.**</font> Based on the above, what can you say about the distribution of $T$? Select your answer in the bCourses quiz."
   ]
  },
  {
   "cell_type": "markdown",
   "metadata": {},
   "source": [
    "## Extra: Distribution of $T$\n",
    "\n",
    "Run the code cell below to see a comparison between the histogram of the simulated $T$ values and a probability density function of a normal distribution with parameters based on the values you estimated in Questions 2 and 3. You don't have to submit anything."
   ]
  },
  {
   "cell_type": "code",
   "execution_count": null,
   "metadata": {},
   "outputs": [],
   "source": [
    "# Denisty plot of T\n",
    "\n",
    "# define possible values for T to calculate their densities\n",
    "t= np.linspace(3200,4200,1000)\n",
    "\n",
    "# plot density histgram\n",
    "plt.hist(T, bins=100, density=True)\n",
    "\n",
    "# plot pdf\n",
    "plt.plot(t, norm.pdf(t, loc=T_mean, scale=np.sqrt(T_var)), c = 'r', linewidth=2, \\\n",
    "         label='N ($\\mu$='+str(round(T_mean))+',$\\sigma$='+str(round(np.sqrt(T_var)))+')')\n",
    "\n",
    "# add legend\n",
    "plt.legend()\n",
    "\n",
    "# label axes\n",
    "plt.xlabel('Travel Time for Compound BART Trip (sec)')\n",
    "plt.ylabel('Density')\n",
    "plt.title('Theoretical and Simulated Distributions for $T$')\n",
    "\n",
    "# specify x axis limit\n",
    "plt.xlim(3200,4200)\n",
    "\n",
    "# display plot\n",
    "plt.show()"
   ]
  },
  {
   "cell_type": "markdown",
   "metadata": {},
   "source": [
    "## Submit your work!\n",
    "\n",
    "<font color='red'>**Question 13.** </font> Submit your PDF file.\n",
    "\n",
    "I recommend that you save your .ipynb file and keep a copy of it so that you can refer to it in the future (e.g., when working on the project). \n",
    "\n",
    "Once done with answering ALL questions and you are ready to submit the quiz, follow these steps:\n",
    "\n",
    "1. Run all cells in the notebook. You can do this by going to Cell > Run All. This makes sure that all your visuals and answers show up in the file you submit.\n",
    "\n",
    "2. Then, go to \"File > Download as > PDF via LaTex(.pdf)\" to generate a PDF file or PDF via HTML(.html). Name the PDF file with your last name \"Lastname.pdf\". Even if you click on PDF via HTML(.html), make sure that the downloaded file is '.pdf'.\n",
    "\n",
    "3. If you have trouble generating the PDF file from Jupyter notebook, use [datahub.berkeley.edu](http://datahub.berkeley.edu). Log in with your CalNet credentials. Upload the ipynb file with your outputs and results to Juptrer. Then follow step 2.\n",
    "\n",
    "4. Upload the PDF file to the bCourses quiz (more instructions there).\n",
    "\n",
    "\n",
    "**Not submitting a PDF file will result in a grade of 0 on this lab assignment.**\n",
    "**You will also receive a 0 if your answers to this quiz are inconsistent with your PDF.**"
   ]
  }
 ],
 "metadata": {
  "kernelspec": {
   "display_name": "Python 3 (ipykernel)",
   "language": "python",
   "name": "python3"
  },
  "language_info": {
   "codemirror_mode": {
    "name": "ipython",
    "version": 3
   },
   "file_extension": ".py",
   "mimetype": "text/x-python",
   "name": "python",
   "nbconvert_exporter": "python",
   "pygments_lexer": "ipython3",
   "version": "3.9.13"
  }
 },
 "nbformat": 4,
 "nbformat_minor": 4
}
