{
 "cells": [
  {
   "cell_type": "markdown",
   "metadata": {},
   "source": [
    "# CE 93: Engineering Data Analysis\n",
    "# LAB 01 Numerical and Graphical Summaries of Data\n"
   ]
  },
  {
   "cell_type": "markdown",
   "metadata": {},
   "source": [
    "**Full Name:** *replace text here*"
   ]
  },
  {
   "cell_type": "markdown",
   "metadata": {},
   "source": [
    "## Instructions \n",
    "\n",
    "Welcome to Lab 01! \n",
    "\n",
    "Please save your work after every question! At the end, you will have to submit your Jupyter Notebook as a PDF file in the bCourses quiz. The notebook should be consistent with your quiz answers. Not submitting a PDF file will result in a grade of 0 on the lab assignment. You will also receive a 0 if your answers to the quiz are inconsistent with your PDF.\n",
    "\n",
    "If you see cells with \"...\" make sure to replace the \"...\" with your code even if they are not listed with a \"Question\". \n",
    "Please remember to label all axes with the quantity and units being plotted. \n",
    "\n",
    "Any part listed as a \"<font color='red'>**Question**</font>\" should be answered in the bCourses quiz to receive credit."
   ]
  },
  {
   "cell_type": "markdown",
   "metadata": {},
   "source": [
    "We will use the following Python packages:\n",
    "\n",
    "* NumPy\n",
    "* pandas\n",
    "* MatPlotLib\n",
    "* statistics\n",
    "* scipy"
   ]
  },
  {
   "cell_type": "markdown",
   "metadata": {},
   "source": [
    "## Load the required libraries \n",
    "\n",
    "The following code loads the required libraries. Run this cell first."
   ]
  },
  {
   "cell_type": "code",
   "execution_count": null,
   "metadata": {},
   "outputs": [],
   "source": [
    "# import python library / packages \n",
    "import numpy as np                           # ndarrays for gridded data\n",
    "import pandas as pd                          # DataFrames for tabular data\n",
    "import matplotlib.pyplot as plt              # plotting\n",
    "import statistics as stats                   # statistics like mode\n",
    "import scipy                                 # statistics"
   ]
  },
  {
   "cell_type": "markdown",
   "metadata": {},
   "source": [
    "## About Lab 01\n",
    "In Lab 1 we will be working with a data set of Biochemical oxygen demand (BOD), Nitrates, and Ammonia measurements along the Blackwater River. Biochemical oxygen demand, or BOD, is a measurement of the amount of oxygen consumed by the microorganisms in decomposing organic matter in some volume of water. Additionally, BOD can also be used to measure the extraction of oxygen from water via oxidation of inorganic matter, a chemical reaction as opposed to a biological one. \n",
    "\n",
    " <img src=\"figure1.png\">\n",
    " \n",
    " From EPA: Water Monitoring and Assessment: \n",
    "“BOD directly affects the amount of dissolved oxygen in rivers and streams. The greater the BOD, the more rapidly oxygen is depleted in the stream. This means less oxygen is available to higher forms of aquatic life. The consequences of high BOD are the same as those for low dissolved oxygen: aquatic organisms become stressed, suffocate, and die.”\n",
    "\n",
    "\n",
    "Nitrates are a very common contaminant of drinking water, especially in rural areas near agriculture. The primary sources of nitrate contamination are fertilizer, sewage, and manure. Federal regulations for nitrates were put in place because high nitrate levels can result in methemoglobinemia, or \"blue baby\" disease. They are also an indicator for other major agricultural contaminants, such as pesticides and bacteria. \n",
    "\n",
    "\n",
    "Ammonia in waterways is the result of industrial processes, wastes, and fertilizers, as well as a byproduct of drinking water disinfection with chloramines. Ammonia is toxic for aquatic life, especially in oxygen-poor environments.\n",
    "\n",
    "\n",
    "For Civil and Environmental Engineers, BOD, Nitrates, and Ammonia measurements are critical to protect the health of waterways that are impacted by various organic and inorganic pollution. The consequences of high BOD could be species depletion, damaged ecosystems, polluted water, regulatory challenges, and criminal investigations.  "
   ]
  },
  {
   "cell_type": "markdown",
   "metadata": {},
   "source": [
    "### Load the data\n",
    "\n",
    "Let's load the provided data set `nutrients.csv`. These are all the features:\n",
    "\n",
    "|Feature|Units|Description|\n",
    "|:-|:-|:-|\n",
    "|BOD|mg/L|Biochemical oxygen demand measurements|\n",
    "|Nitrates|mg/L|Nitrates measurements|\n",
    "|Ammonia|mg/L|Ammonia measurements|\n",
    "\n",
    "* load using the Pandas `read_csv()` function"
   ]
  },
  {
   "cell_type": "code",
   "execution_count": null,
   "metadata": {},
   "outputs": [],
   "source": [
    "# read a .csv file in as a DataFrame\n",
    "df = pd.read_csv('nutrients.csv')\n",
    "\n",
    "# returns the first 5 rows of the data set by default\n",
    "df.head()"
   ]
  },
  {
   "cell_type": "markdown",
   "metadata": {},
   "source": [
    "### Dataframe Shape\n",
    "\n",
    "Let's check the shape (number of rows and columns) of our data set\n",
    "\n",
    "To get the shape of a DataFrame, use `DataFrame.shape`, where `DaraFrame` should be replaced with the name of your data (see the cell above). The `.shape` attribute returns (rows, columns)."
   ]
  },
  {
   "cell_type": "markdown",
   "metadata": {},
   "source": [
    "<font color='red'>**Question 1.1.**</font> What is the shape of this data set?\n",
    "\n",
    "Replace the \"...\" with your code."
   ]
  },
  {
   "cell_type": "code",
   "execution_count": null,
   "metadata": {},
   "outputs": [],
   "source": [
    "# return the dataframe shape\n",
    "..."
   ]
  },
  {
   "cell_type": "markdown",
   "metadata": {},
   "source": [
    "### Column Labels\n",
    "\n",
    "Each column in a DataFrame has a label/name. Getting column labels is useful when you want to access a specific column by name.\n",
    "Let's check the column labels of the Dataframe\n",
    "\n",
    "* using the `.columns` attribute\n",
    "\n",
    "The column labels will appear between square brackets after running the cell below."
   ]
  },
  {
   "cell_type": "code",
   "execution_count": null,
   "metadata": {},
   "outputs": [],
   "source": [
    "# return the column labels of the Dataframe\n",
    "df.columns"
   ]
  },
  {
   "cell_type": "markdown",
   "metadata": {},
   "source": [
    "So we have three columns, with labels: \n",
    "1. 'BOD(mg/L)'\n",
    "2. 'Nitrates(mg/L)'\n",
    "3. 'Ammonia(mg/L)'"
   ]
  },
  {
   "cell_type": "markdown",
   "metadata": {},
   "source": [
    "### Getting Specific Values\n",
    "\n",
    "If you want to get a specific value from the DataFrame (formally known as indexing), let's say the value for row 10 and column 10, you can NOT simply use `DataFrame[9, 9]`, like you would for a numpy array.\n",
    "\n",
    "So let's see how to do it. There are multiple ways to select and index rows and columns from DataFrames. You could use the column labels from above instead of the column number, or simply use the column and row number.\n",
    "\n",
    "* Method 1: Indexing a DataFrame using `.iloc[ ]`\n",
    "\n",
    "This function allows us to retrieve rows and columns by position. It is primarily integer position based (from 0 to length-1 of the rows or columns). The format is `DataFrame.iloc[row, column]`. Remember that Python is 0-indexed. So the first row is 0, second is 1, so on. Same applies for column positions Remember this!\n",
    "\n",
    "* Method 2:\n",
    "\n",
    "You can also index a DataFrame using `DataFrame['column label'][row]`. This will return the value of the column 'column label' at row = row + 1 (because of 0-indexing). You need to use the exact column label. You can refer to the output above for the three column labels of our DataFrame.\n",
    "\n",
    "There are more ways to index a DataFrame, but these should be sufficient."
   ]
  },
  {
   "cell_type": "markdown",
   "metadata": {},
   "source": [
    "<font color='red'>**Question 1.2.**</font> What is the BOD in mg/L for the 30$^{th}$ row? You can refer to the column labels in the previous code cell. You can see that the first label is for BOD, so BOD is in the first column.\n",
    "\n",
    "Replace the \"...\" with your code. You can try both methods to confirm your answer, but you don't have to. Also, remember that to return multiple outputs in the same code cell, you need to use the `print()` function.\n",
    "\n",
    "You now have the answers to Question 1 of the quiz. Go back to bCourses and start the quiz to answer the first question."
   ]
  },
  {
   "cell_type": "code",
   "execution_count": null,
   "metadata": {},
   "outputs": [],
   "source": [
    "# Using iloc[]. Get cell value by row and column position\n",
    "...\n",
    "\n",
    "# Altenatively, get cell value using column label and woe position\n",
    "..."
   ]
  },
  {
   "cell_type": "markdown",
   "metadata": {},
   "source": [
    "### Create Variables from the DataFrame\n",
    "\n",
    "We will be working with different columns of the DataFrame (biochemical oxygen demand, nitrates, and ammonia). So, let's create different variables for each column in the Dataframe.\n",
    "\n",
    "* Create a variable `bod` for biochemical oxygen demand\n",
    "* Create a variable `nit` for nitrates\n",
    "* Create a variable `amm` for ammonia\n",
    "\n",
    "We can do this in two different ways.\n",
    "* Using `DataFrame['column label']\n",
    "* Or if you don't want to type out the full column labels, you can use `DataFrame[DataFrame.columns[column]]`, where column would be the integer index of the column you want. Remember, indexing starts at 0!\n",
    "\n",
    "Replace the \"...\" with your code."
   ]
  },
  {
   "cell_type": "code",
   "execution_count": null,
   "metadata": {},
   "outputs": [],
   "source": [
    "# create variables for biochemical oxygen demand, nitrates, and ammonia\n",
    "# bod is already created for you\n",
    "# replace ... with your code to create nit and amm\n",
    "\n",
    "bod = df['BOD(mg/L)'] # or df[df.columns[0]]\n",
    "nit = ...\n",
    "amm = ..."
   ]
  },
  {
   "cell_type": "markdown",
   "metadata": {},
   "source": [
    "### Check your answer to Question 1.2.\n",
    "\n",
    "You can check your answer to Question 1.2. using `bod[row]`, where row would be the **index** of the row you are interested in."
   ]
  },
  {
   "cell_type": "code",
   "execution_count": null,
   "metadata": {},
   "outputs": [],
   "source": [
    "# return BOD value for the 30th row\n",
    "..."
   ]
  },
  {
   "cell_type": "markdown",
   "metadata": {},
   "source": [
    "## Get Numerical Summaries Using stats Module\n",
    "\n",
    "In this part, we will calculate different measures of central tendency and variability for the `nit` data using the `stats` module.\n",
    "\n",
    "* Use the `stats.mean()` function to get mean value\n",
    "* Use the `stats.median()` function to get median\n",
    "* Use the `stats.variance()` function to get sample variance\n",
    "* Use the `stats.stdev()` function to get sample standard deviation\n",
    "* (Not required in the questions) You can use the `stats.mode()` function to get mode\n",
    "\n",
    "Go back to bCourses to answer the questions below after you update the code cell.\n",
    "\n",
    "<font color='red'>**Question 2.**</font> What is the mean of nitrates? Add your answer in the bCourses quiz.\n",
    "\n",
    "<font color='red'>**Question 3.**</font> Calculate the median of nitrates, then use logic operators in Python (>, <, ==) to compare the mean and median values. Select your answer(s) form the options in bCourses.\n",
    "\n",
    "<font color='red'>**Question 4.**</font> What is the variance of nitrates? Select your answer in the bCourses quiz.\n",
    "\n",
    "<font color='red'>**Question 5.**</font> What is the standard deviation of nitrates? Add your answer in the bCourses quiz.\n",
    "\n",
    "<font color='red'>**Question 6.**</font> What is the coefficient of variation of nitrates? Add your answer in the bCourses quiz.\n",
    "\n",
    "<font color='red'>**Question 7.**</font> What is the unit of the coefficient of variation of nitrates? Select your answer(s) form the options in bCourses."
   ]
  },
  {
   "cell_type": "code",
   "execution_count": null,
   "metadata": {},
   "outputs": [],
   "source": [
    "# calculate the mean of nitrates\n",
    "...\n",
    "\n",
    "# calculate the median of nitrates\n",
    "...\n",
    "\n",
    "# compare the mean and median of nitrates\n",
    "...\n",
    "\n",
    "# calculate the variance of nitrates\n",
    "...\n",
    "\n",
    "# calculate the stdev of nitrates\n",
    "...\n",
    "\n",
    "# calculate the coefficient of variation of nitrates\n",
    "..."
   ]
  },
  {
   "cell_type": "markdown",
   "metadata": {},
   "source": [
    "## Get Numerical Summaries Using numpy Package\n",
    "\n",
    "Numerical summaries can also be calculated using the `numpy` package. However, it is important to understand any possible differences between packages. Let's look at an example also for the `nit` data.\n",
    "\n",
    "* Use the `np.std()` function with the default parameters\n",
    "\n",
    "<font color='red'>**Question 8.**</font> What is the standard deviation of nitrates when you use `np.std()`? Add your answer in the bCourses quiz."
   ]
  },
  {
   "cell_type": "code",
   "execution_count": null,
   "metadata": {},
   "outputs": [],
   "source": [
    "# calculate the stdev of nitrates using np.std()\n",
    "..."
   ]
  },
  {
   "cell_type": "markdown",
   "metadata": {},
   "source": [
    "### Why Are My Values Different?\n",
    "\n",
    "If you got slightly different values from `stats.stdev()` and `np.std()`, then do not freak out! If you got the same values, you did something wrong, so go back.\n",
    "\n",
    "Let's try to understand this difference.\n",
    "\n",
    "To answer the next question, you need to understand how `np.std()` works. You can read more about it [here](https://numpy.org/doc/stable/reference/generated/numpy.std.html)\n",
    "\n",
    "<font color='red'>**Question 9.**</font> Why are your values different from `stats.stdev()` and `np.std()` different? Select your answer(s) form the options in bCourses."
   ]
  },
  {
   "cell_type": "markdown",
   "metadata": {},
   "source": [
    "### Other Numerical Summaries in numpy:\n",
    "\n",
    "The `numpy` package has other functions for numerical summaries.\n",
    "\n",
    "<font color='red'>**Question 10.**</font> Which of the following `numpy` functions exist to calculate numerical summaries similar to the `stats` module? Select your answer(s) form the options in bCourses.\n",
    "* np.mean()\n",
    "* np.median()\n",
    "* np.mode()\n",
    "\n",
    "If a function does not exist and you try to run it, you will simply get an error. If that happens, add a '#' before the code to comment this line and not run it. You should submit your PDF file at the end with no errors, so make sure to comment any functions that do not exist in `numpy`."
   ]
  },
  {
   "cell_type": "code",
   "execution_count": null,
   "metadata": {},
   "outputs": [],
   "source": [
    "# Try to calculate mean using numpy\n",
    "...\n",
    "\n",
    "# Try to calculate median using numpy\n",
    "...\n",
    "\n",
    "# Try to calculate mode using numpy\n",
    "..."
   ]
  },
  {
   "cell_type": "markdown",
   "metadata": {},
   "source": [
    "## Other Methods to Get Numerical Summaries\n",
    "\n",
    "There are other packages besides `stats` and `numpy` to get numerical summaries. Always make sure you understand the default parameters and check your values using different packages when in doubt.\n",
    "\n",
    "Finally, let's use the `describe()` function of Dataframes to get several descriptive statistics for the `nit` data.\n",
    "\n",
    "* Use the `DataFrame.describe()` function with the default parameters\n",
    "\n",
    "You can read more about it here: [`DataFrame.describe()`](https://pandas.pydata.org/docs/reference/api/pandas.DataFrame.describe.html)\n",
    "\n",
    "<font color='red'>**Question 11.**</font> Which of the following is(are) output(s), by default, of the `describe()` function. Select your answer(s) form the options in bCourses.\n",
    "* Mean\n",
    "* Median\n",
    "* Mode\n",
    "* 25th percentile\n",
    "\n",
    "You can simply run it on the nit data and check the output to answer this question."
   ]
  },
  {
   "cell_type": "code",
   "execution_count": null,
   "metadata": {},
   "outputs": [],
   "source": [
    "# get descriptive statistics for nitrates using DataFrame.describe(), and replace DataFrame with the variable you want\n",
    "..."
   ]
  },
  {
   "cell_type": "markdown",
   "metadata": {},
   "source": [
    "## Histogram Plots Using matplotlib.pyplot\n",
    "\n",
    "In this part, we will plot histograms for the `bod` data using `matplotlib.pyplot`.\n",
    "\n",
    "* Read more about `plt.hist()` [here](https://matplotlib.org/stable/api/_as_gen/matplotlib.pyplot.hist.html).\n",
    "* You can also run `?plt.hist` in a code cell to read more about it\n",
    "* You will need to understand the following parameters to solve the next questions:\n",
    "    * bins\n",
    "    * weights\n",
    "\n",
    "Note: If you scroll to the top of the code, where we loaded the required libraries, you can see that we used: `import matplotlib.pyplot as plt`\n",
    "\n",
    "Thus, in your code, you can simply replace matplotlib.pyplot by plt.\n",
    "\n",
    "So instead of `matplotlib.pyplot.hist()`, you **should** use `plt.hist()`.\n",
    "\n",
    "### Histogram Plot with `bins=5`\n",
    "\n",
    "Plot a histogram for the `bod` data with `bins=5`. To clearly see the bars, you can specify the edge color of the bins as follows, where `k` stands for black:\n",
    "* `plt.hist(bod, bins=5, ec='k')`\n",
    "\n",
    "<font color='red'>**Question 12.**</font> What is the maximum frequency that you observe and for how many bins? Select your answer(s) form the options in bCourses."
   ]
  },
  {
   "cell_type": "code",
   "execution_count": null,
   "metadata": {},
   "outputs": [],
   "source": [
    "# learn more about matplotlib.pyplot.hist\n",
    "?plt.hist"
   ]
  },
  {
   "cell_type": "code",
   "execution_count": null,
   "metadata": {},
   "outputs": [],
   "source": [
    "# plot a histogram of BOD using bins = 5 (simply copy the line of code from the text above)\n",
    "...\n",
    "\n",
    "# display all figures\n",
    "plt.show()"
   ]
  },
  {
   "cell_type": "markdown",
   "metadata": {},
   "source": [
    "### Label your axes!!\n",
    "\n",
    "Whenever you are presenting a plot, whether for a lab, homework, or project (and in your professional career), ALWAYS label your axes and add units where relevant. You can also add a title to your plot.\n",
    "\n",
    "Let's re-plot the histogram for the `bod`, now adding axes labels and controlling the appearance of the figure. Run the code below to check it out! In all of the remaining figures, follow a similar format."
   ]
  },
  {
   "cell_type": "code",
   "execution_count": null,
   "metadata": {},
   "outputs": [],
   "source": [
    "# initialize figure\n",
    "# (5,5) is width by height\n",
    "fig = plt.figure(figsize=(5,5))\n",
    "\n",
    "# In the next question, you will create a figure with several subplots\n",
    "# One way to do so is using fig.add_subplot(nrows, ncols, index)\n",
    "# This will add a subplot that will take the index position on a grid with with nrows rows and ncols columns. \n",
    "# index in this case starts at 1 in the upper left corner and increases to the right. \n",
    "\n",
    "# While it is useless to have subplots for 1 figure in this case, let's do it just for illustration\n",
    "\n",
    "# create an empty array axs to append to it each new subplot\n",
    "axs = []\n",
    "\n",
    "# add/append first subplot in a 1x1 grid\n",
    "axs.append(fig.add_subplot(1,1,1))\n",
    "\n",
    "# specify number of bins\n",
    "N = 5\n",
    "\n",
    "# plot histogram wiht bins = N\n",
    "# to make sure we are plotting on the first subplot, we use axs[0]\n",
    "axs[0].hist(bod, bins=N, ec='black')\n",
    "\n",
    "# add title\n",
    "axs[0].set_title('5 Bins bod histogram')\n",
    "\n",
    "# add label for x-axis\n",
    "axs[0].set_xlabel('BOD(mg/L)')\n",
    "\n",
    "# add label for y-axis\n",
    "axs[0].set_ylabel('Frequency')\n",
    "\n",
    "# display all figures\n",
    "plt.show()"
   ]
  },
  {
   "cell_type": "markdown",
   "metadata": {},
   "source": [
    "### Try Different Bin Numbers\n",
    "\n",
    "<font color='red'>**Question 13.**</font> Make three histograms for the `bod` using (a) `bins = 5`, (b) `bins = 15`, and (c) `bins = 50`. Which number of bins is most appropriate for this dataset? Select your answer(s) form the options in bCourses."
   ]
  },
  {
   "cell_type": "code",
   "execution_count": null,
   "metadata": {},
   "outputs": [],
   "source": [
    "# Edit the code below to make three histogram subplots in 1 figure\n",
    "# I am providing you with many of the commands here for you to practice. In the next question, you will write the entire code.\n",
    "# You will simply have to copy your code from here and edit it for the other questions\n",
    "\n",
    "# initialize figure with (12,4) is width by height\n",
    "fig = plt.figure(figsize=[12,4])\n",
    "\n",
    "# create empty axs\n",
    "axs = []\n",
    "\n",
    "# add/append first subplot in a 1x3 grid\n",
    "axs.append(fig.add_subplot(1,3,1))\n",
    "\n",
    "# specify number of bins for first subplot\n",
    "N = 5\n",
    "\n",
    "# Create your first subplot below, with title and axes labels\n",
    "# here you will use axs[0].hist to plot, axs[0].set_title to set the title etc. (see code above)\n",
    "axs[0].hist(bod, bins=N, ec='black')\n",
    "axs[0].set_title('5 Bins bod histogram')\n",
    "axs[0].set_xlabel('BOD(mg/L)')\n",
    "axs[0].set_ylabel('Frequency')\n",
    "\n",
    "####################################################################################################\n",
    "\n",
    "# add/append second subplot in a 1x3 grid\n",
    "# Note that now we are using index 2: (1,3,2)\n",
    "axs.append(fig.add_subplot(1,3,2))\n",
    "\n",
    "# specify number of bins for second subplot\n",
    "...\n",
    "\n",
    "# Create your second subplot below, with title and axes labels\n",
    "# here you will use axs[1].hist to plot, axs[1].set_title to set the title etc. where axs[1] calls the second subplot\n",
    "...\n",
    "\n",
    "####################################################################################################\n",
    "\n",
    "# add/append third subplot in a 1x3 grid\n",
    "# Note that now we should use index 3: (1,3,3)\n",
    "...\n",
    "\n",
    "# specify number of bins for second subplot\n",
    "...\n",
    "\n",
    "# Create your second subplot below, with title and axes labels\n",
    "# here you will use axs[2].hist to plot, axs[2].set_title to set the title etc. where axs[2] calls the third subplot\n",
    "...\n",
    "\n",
    "# display all figures\n",
    "plt.show()"
   ]
  },
  {
   "cell_type": "markdown",
   "metadata": {},
   "source": [
    "### Histogram Plot with Frequency, Relative Frequency, and Density:\n",
    "\n",
    "So far, we have been specifying the total number of bins, which results in equal bin widths. You can alternatively specify the values for the bin edges, and thus, assign unequal bin widths. So in this part, we will `bins=[2.2, 2.5, 3.2, 3.3, 3.8, 4.5]`, which again specifies the edges of the bins.\n",
    "\n",
    "Also, by default, `plt.hist()` plots the frequency (i.e., count of the number of sample data that fall into each bin). We can alternatively plot proportions (i.e., relative frequency: frequency/sample size) or densities (proportions/bin width).\n",
    "\n",
    "Modify your plotting code from the previous question and plot, in the same figure, three histograms for `bod` all using `bins=[2.2, 2.5, 3.2, 3.3, 3.8, 4.5]`, such that:\n",
    "\n",
    "1. The first plot should have frequency on the y-axis (similar to before): `plt.hist(bod, ec='black', bins=[2.2, 2.5, 3.2, 3.3, 3.8, 4.5])`\n",
    "2. The second (middle) plot should have relative frequency on the y-axis. For this, you need to add between parentheses the parameter `weights=np.ones_like(bod)/len(bod)`, in addition to specifying the bins as defined above. This simply multiplies the data by 1/sample size, which would give us proportions.\n",
    "3. The third plot should have density on the y-axis. For this, you need to to add between parentheses `density=True` (do not specify weights), in addition to specifying the bins as defined above.\n",
    "\n",
    "Make sure you label the y-axes correctly for each plot. Also, add a title for each plot.\n",
    "\n",
    "After generating the plot, right click on it and click 'Save image as' to download your figure as an image.\n",
    "\n",
    "<font color='red'>**Question 14.**</font> Upload your figure to bCourses using the instructions there.\n",
    "\n",
    "<font color='red'>**Question 15.**</font> Based on your plot of frequency, relative frequency, and density using the given bin edges, what you can you tell about these plots? Select your answer(s) form the options in bCourses."
   ]
  },
  {
   "cell_type": "code",
   "execution_count": null,
   "metadata": {},
   "outputs": [],
   "source": [
    "# Add your code below\n",
    "# You can simply copy it from above and make the necessary changes for each subplot\n",
    "# Label your axes and add a descriptive title for each subplot\n",
    "\n",
    "..."
   ]
  },
  {
   "cell_type": "markdown",
   "metadata": {},
   "source": [
    "## Percentiles and Quartiles Using numpy:\n",
    "\n",
    "We can calculate percentiles and quartiles directly in Python. \n",
    "\n",
    "* For example, [`np.percentile(data, q)`](https://numpy.org/doc/stable/reference/generated/numpy.percentile.html) returns the qth percentile for the specified data. \n",
    "* `np.percentile(bod, q=[20, 40])` returns the 20th and 40th percentile (in the order you specify the q values)\n",
    "* If you use `per20, per40 = np.percentile(bod, q=[20, 40])`, variable `per20` will be the 20th percentile and variable `per40` will be the 40th percentile, and you can perform operations like `per40 - per20`\n",
    "\n",
    "Remember that the interquartile range is the third quartile (75th percentile) - first quartile (25th percentile).\n",
    "\n",
    "* Use `np.percentile(data, q)` to calculate percentiles from which you can calculate the interquartile range for `bod`.\n",
    "\n",
    "<font color='red'>**Question 16.**</font> What is the interquartile range for `bod`? Add your answer in the bCourses quiz."
   ]
  },
  {
   "cell_type": "code",
   "execution_count": null,
   "metadata": {},
   "outputs": [],
   "source": [
    "# calculate interquartile range for bod\n",
    "..."
   ]
  },
  {
   "cell_type": "markdown",
   "metadata": {},
   "source": [
    "## Boxplots Using matplotlib.pyplot\n",
    "\n",
    "Boxplots can be plotted using the [`plt.boxplot()`](https://matplotlib.org/stable/api/_as_gen/matplotlib.pyplot.boxplot.html) function.\n",
    "\n",
    "Let's look at an example. We will plot two boxplots for random data a and b."
   ]
  },
  {
   "cell_type": "code",
   "execution_count": null,
   "metadata": {},
   "outputs": [],
   "source": [
    "# randomly generate an array with 100 numbers\n",
    "a = np.random.randn(100)\n",
    "\n",
    "# randomly generate another array with 100 numbers\n",
    "b = 2*(np.random.randn(100)+1)\n",
    "\n",
    "#initialize figure\n",
    "fig = plt.figure() \n",
    "axs = []\n",
    "\n",
    "#boxplot of dataset 'a'\n",
    "axs.append(fig.add_subplot(121)) #first subplot\n",
    "axs[0].boxplot(a)\n",
    "axs[0].set_title('boxplot of a')\n",
    "axs[0].set_ylabel('a')\n",
    "\n",
    "#boxplot of dataset 'y'\n",
    "axs.append(fig.add_subplot(122)) #second subplot\n",
    "axs[1].boxplot(b)\n",
    "axs[1].set_title('boxplot of b')\n",
    "axs[1].set_ylabel('b')\n",
    "\n",
    "plt.tight_layout()\n",
    "plt.show()"
   ]
  },
  {
   "cell_type": "markdown",
   "metadata": {},
   "source": [
    "If we wish to compare the boxplots of a and b, we should plot them on the same figure. Notice that the values for the y-axes above are different for a and b, and thus, the above plots are not an effective way to compare a and b.\n",
    "\n",
    "Let's plot both boxplots together. This will provide a better graphical representation because we can effectively compare both data sets a and b."
   ]
  },
  {
   "cell_type": "code",
   "execution_count": null,
   "metadata": {},
   "outputs": [],
   "source": [
    "# useful in comparing multiple data sets\n",
    "fig = plt.figure() \n",
    "axs = []\n",
    "\n",
    "#boxplot of a and b on one plot\n",
    "axs.append(fig.add_subplot(111))\n",
    "axs[0].boxplot([a,b])\n",
    "axs[0].set_title('boxplot of a & b')\n",
    "axs[0].set_xticklabels([\"a\",\"b\"])\n",
    "\n",
    "plt.tight_layout()\n",
    "plt.show()"
   ]
  },
  {
   "cell_type": "markdown",
   "metadata": {},
   "source": [
    "### Boxplots for `bod`, `nit`, `amm` \n",
    "\n",
    "<font color='red'>**Question 17.**</font> Create boxplots for `bod`, `nit`, `amm` **on the same plot**. Based on your boxplots for `bod`, `nit`, and `amm`, what you can you tell? Select your answer(s) form the options in bCourses."
   ]
  },
  {
   "cell_type": "code",
   "execution_count": null,
   "metadata": {},
   "outputs": [],
   "source": [
    "# Add your code below\n",
    "# You can simply copy the code above and edit it to plot boxplots fro bod, nit, and amm\n",
    "# Make sure to label your axes\n",
    "\n",
    "..."
   ]
  },
  {
   "cell_type": "markdown",
   "metadata": {},
   "source": [
    "## Scatter Plots Using matplotlib.pyplot\n",
    "\n",
    "Scatter plots of bivariate data can be plotted using the [`plt.scatter()`](https://matplotlib.org/stable/api/_as_gen/matplotlib.pyplot.scatter.html) function.\n",
    "\n",
    "You can control the marker shape, size, fill color, edge color and many more. Click on the function above to read more about some of its parameters.\n",
    "\n",
    "Let's look at an example for data a and b."
   ]
  },
  {
   "cell_type": "code",
   "execution_count": null,
   "metadata": {},
   "outputs": [],
   "source": [
    "#initialize figure\n",
    "fig = plt.figure()\n",
    "axs = []\n",
    "\n",
    "# make the scatterplot\n",
    "axs.append(fig.add_subplot(111))\n",
    "axs[0].scatter(a,b, color='orange', edgecolors='k') #(x,y)\n",
    "axs[0].set_xlabel('a')\n",
    "axs[0].set_ylabel('b')\n",
    "axs[0].set_title('Scatterplot of a versus b')\n",
    "\n",
    "plt.show()"
   ]
  },
  {
   "cell_type": "markdown",
   "metadata": {},
   "source": [
    "### Scatterplots for `bod`, `nit`, `amm` \n",
    "\n",
    "Make three scatter plots as follows: \n",
    "\n",
    "1. scatter plot of ‘bod’ (y-axis) versus ‘nit’ (x-axis)\n",
    "2. scatter plot of ‘amm’ (y-axis) versus ‘bod’ (x-axis)\n",
    "3. scatter plot of ‘amm’ (y-axis) versus ‘nit’ (x-axis) \n",
    "    \n",
    "Make sure to correctly label the axes to easily answer the next question.\n",
    "\n",
    "<font color='red'>**Question 18.**</font> Based on your scatter plots, what you can you tell about the associations between the three variables (positive, negative, none)? Select your answer(s) form the options in bCourses."
   ]
  },
  {
   "cell_type": "code",
   "execution_count": null,
   "metadata": {},
   "outputs": [],
   "source": [
    "# Add your code below for the three scatter plots\n",
    "# Try to create one figure with three suplots, similar to what you did when plotting frequency, relative frequency, and density\n",
    "\n",
    "..."
   ]
  },
  {
   "cell_type": "markdown",
   "metadata": {},
   "source": [
    "## Submit your work!"
   ]
  },
  {
   "cell_type": "markdown",
   "metadata": {},
   "source": [
    "<font color='red'>**Question 19.** </font> Submit your PDF file.\n",
    "\n",
    "I recommend that you save your .ipynb file and keep a copy of it so that you can refer to it in the future (e.g., when working on the project). \n",
    "\n",
    "Once done with answering ALL questions and you are ready to submit the quiz, follow these steps:\n",
    "\n",
    "1. Run all cells in the notebook. You can do this by going to Cell > Run All. This makes sure that all your visuals and answers show up in the file you submit.\n",
    "\n",
    "2. Then, go to \"File > Download as > PDF via LaTex(.pdf)\" to generate a PDF file or PDF via HTML(.html). Name the PDF file with your last name \"Lastname.pdf\". Even if you click on PDF via HTML(.html), make sure that the downloaded file is '.pdf'.\n",
    "\n",
    "3. If you have trouble generating the PDF file from Jupyter notebook, use [datahub.berkeley.edu](http://datahub.berkeley.edu). Log in with your CalNet credentials. Upload the ipynb file with your outputs and results to Juptrer. Then follow step 2.\n",
    "\n",
    "4. Upload the PDF file to the bCourses quiz (more instructions there).\n",
    "\n",
    "\n",
    "**Not submitting a PDF file will result in a grade of 0 on this lab assignment.**\n",
    "**You will also receive a 0 if your answers to this quiz are inconsistent with your PDF.**"
   ]
  }
 ],
 "metadata": {
  "kernelspec": {
   "display_name": "Python 3 (ipykernel)",
   "language": "python",
   "name": "python3"
  },
  "language_info": {
   "codemirror_mode": {
    "name": "ipython",
    "version": 3
   },
   "file_extension": ".py",
   "mimetype": "text/x-python",
   "name": "python",
   "nbconvert_exporter": "python",
   "pygments_lexer": "ipython3",
   "version": "3.9.13"
  }
 },
 "nbformat": 4,
 "nbformat_minor": 2
}
