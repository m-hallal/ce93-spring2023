{
 "cells": [
  {
   "cell_type": "markdown",
   "metadata": {},
   "source": [
    "# CE 93: Engineering Data Analysis\n",
    "# LAB 04 Common Distributions I"
   ]
  },
  {
   "cell_type": "markdown",
   "metadata": {},
   "source": [
    "**Full Name:** *replace text here*"
   ]
  },
  {
   "cell_type": "markdown",
   "metadata": {},
   "source": [
    "## Instructions \n",
    "\n",
    "Welcome to Lab 04! \n",
    "\n",
    "Please save your work after every question! At the end, you will have to submit your Jupyter Notebook as a PDF file in the bCourses quiz. The notebook should be consistent with your quiz answers. Not submitting a PDF file will result in a grade of 0 on the lab assignment. You will also receive a 0 if your answers to the quiz are inconsistent with your PDF.\n",
    "\n",
    "If you see cells with \"...\" make sure to replace the \"...\" with your code even if they are not listed with a \"Question\". \n",
    "Please remember to label all axes with the quantity and units being plotted. \n",
    "\n",
    "Any part listed as a \"<font color='red'>**Question**</font>\" should be answered in the bCourses quiz to receive credit."
   ]
  },
  {
   "cell_type": "markdown",
   "metadata": {},
   "source": [
    "We will use the following Python packages:\n",
    "\n",
    "* NumPy\n",
    "* MatPlotLib\n",
    "* scipy.stats"
   ]
  },
  {
   "cell_type": "markdown",
   "metadata": {},
   "source": [
    "## Load the required libraries \n",
    "\n",
    "The following code loads the required libraries. Run this cell first."
   ]
  },
  {
   "cell_type": "code",
   "execution_count": null,
   "metadata": {
    "scrolled": true
   },
   "outputs": [],
   "source": [
    "# import python library / packages \n",
    "import numpy as np                           # ndarrays for gridded data\n",
    "import matplotlib.pyplot as plt              # plotting\n",
    "from scipy.stats import *                    # common distributions"
   ]
  },
  {
   "cell_type": "markdown",
   "metadata": {},
   "source": [
    "## About Lab 04\n",
    "\n",
    "Construction is a part of every day life for most driving Californians. It is pretty common to come across one or more instances of traffic being redirected during daily commute. CalTrans (California Department of Transportation) is interested in the amount of cars using Highway 17 every day because they will need to **redirect traffic in one lane** in order to fix a pothole. Because this is a busy highway, they plan to complete the construction at around 11pm on a weekday.\n",
    "\n",
    "They have asked you, as someone with experience in engineering data analysis, to help them understand the traffic patterns and the impact of the planned construction. So, in this lab, you will use properties of common distributions to perform these analyses."
   ]
  },
  {
   "cell_type": "markdown",
   "metadata": {},
   "source": [
    "## Modeling the Number of Cars\n",
    "\n",
    "Assume the number of cars that pass through the construction part of the Highway can be modeled as a **Poisson distribution**. \n",
    "\n",
    "\n",
    "<font color='red'>**Question 1.**</font> What is(are) possible input parameter(s) for the Poisson distribution? Select your answer(s) from the options in bCourses.\n",
    "\n",
    "\n",
    "### Poisson Distribution using `scipy.stats`\n",
    "\n",
    "The `scipy.stats` module contains a large number of common probability distributions. For example, we can use `scipy.stats.poisson` to get the probability mass function, cumulative density function, mean, variance, and more of a Poisson distribution. However, it is **very important** to understand the input to these different functions, as they might be different than what we discussed in class.\n",
    "\n",
    "Read the documentation for `scipy.stats.poisson` [here](https://docs.scipy.org/doc/scipy/reference/generated/scipy.stats.poisson.html). To get the probability mass function of a Poisson distribution, we can use `poisson.pmf(k, mu, loc)`, to get the cumulative density function, we can use `poisson.cdf(k, mu, loc)`, and so on (read the documentation to see all methods that can be used with `scipy.stats.poisson`. \n",
    "\n",
    "The input `k` represents possible values of the random variable (equivalent to $x$). `k` could be a single value (for example, `poisson.pmf(k=3, mu, loc)` will return the probability of $x=3$ from a Poisson distribution), or `k` could be an array (for example, `poisson.pmf(k=[0, 1, 2, 3], mu, loc)` will return an array with the probability of $x=0$, $x= 1$, $x=2$, and $x=3$ from a Poisson distribution).\n",
    "\n",
    "The input `mu` is the parameter of the distribution (we defined it as $\\lambda$ in the lecture). \n",
    "\n",
    "The input `loc` is the minimum possible value of the random variable, and has a default value of 0. In the lecture, we defined the possible values for a Poisson random variable as $x \\geq 0$. Therefore, the default value is acceptable and you do not need to define `loc` (or you can set `loc=0`, which will give you the same result).\n",
    "\n",
    "<font color='red'>**Question 2.**</font> Based on the documentation of `scipy.stats.poisson`, what does the input `mu` ($\\mu$) represent? Select your answer(s) from the options in bCourses.\n",
    "\n",
    "*Hint: compare the given equation for the probability mass function in the documentation of `scipy.stats.poisson` with the lecture notes.*"
   ]
  },
  {
   "cell_type": "markdown",
   "metadata": {},
   "source": [
    "### Probability Mass Function\n",
    "\n",
    "Based on historical data, we know that the average **rate** of cars passing on one lane at 11pm on a weekday is 1.2 cars **per minute**. CalTrans estimates that the construction will take between 1 to 2 **hours**.\n",
    "\n",
    "You want to plot the probability mass function of the number of cars passing on one lane at 11pm on a weekday during **1.5 hours** (middle value of the estimate provided by CalTrans of 1 to 2 hours).\n",
    "\n",
    "Remember that `poisson.pmf(k, mu, loc)` returns the probability mass function of a Poisson distribution. So, we simply need to create an array for the possible values of the number of cars, calculate the probability mass function at all of the possible values of the number of cars, and then plot them. Read and run the code cell below to understand how to plot a probability mass function.\n",
    "\n",
    "The code below is just an EXAMPLE, and has nothing to do with the number of cars."
   ]
  },
  {
   "cell_type": "code",
   "execution_count": null,
   "metadata": {},
   "outputs": [],
   "source": [
    "# Example PMF plot\n",
    "# This is just an EXAMPLE, and has nothing to do with the number of cars\n",
    "\n",
    "# Create an array for the possible values of the random variable\n",
    "# Recall that np.arange(start, stop, step) returns values within the half-open interval [start, stop),\n",
    "# with spacing between the values given by step: [start, start+step, start+2*step, ..., stop-step].\n",
    "k = np.arange(0, 6, 1)\n",
    "\n",
    "# Define the input parameter based on the documentation of scipy.stats.poisson and any given input\n",
    "mu = 1\n",
    "\n",
    "# Plot the PMF using vertical lines\n",
    "# specify linewidths = 1\n",
    "plt.vlines(x=k, ymin = 0, ymax = poisson.pmf(k, mu), linewidths=1)\n",
    "\n",
    "# Label the axes and add a title\n",
    "plt.xlabel('x-axis label')\n",
    "plt.ylabel('y-axis label')\n",
    "plt.title('Title')\n",
    "\n",
    "# specify y-axis limits\n",
    "plt.ylim(0,0.4)\n",
    "\n",
    "# Display the plot\n",
    "plt.tight_layout()\n",
    "plt.show()"
   ]
  },
  {
   "cell_type": "markdown",
   "metadata": {},
   "source": [
    "<font color='red'>**Question 3.**</font> Plot the PMF of the number of cars that are expected to pass on one lane during a duration of 1.5 hours. From the options in the bCourses quiz, which plot matches your probability mass function plot?\n",
    "\n",
    "Copy and paste the code from above to plot the probability mass function of the number of cars passing on one lane at 11pm on a weekday during **1.5 hours** (middle value of the estimate provided by CalTrans of 1 to 2 hours).\n",
    "\n",
    "For this plot, create an array between 0 and 200 using the appropriate step based on the possible values the number of cars can take.\n",
    "\n",
    "Make sure to calculate the input parameter `mu` correctly based on the documentation of `scipy.stats.poisson`. Recall that the average rate is 1.2 cars per minute and we want the probability mass function over a duration of 1.5 hours."
   ]
  },
  {
   "cell_type": "code",
   "execution_count": null,
   "metadata": {},
   "outputs": [],
   "source": [
    "# plot the PMF of the number of cars if construction lasts 1.5 hours\n",
    "\n",
    "..."
   ]
  },
  {
   "cell_type": "markdown",
   "metadata": {},
   "source": [
    "### What If Construction Lasts 2 Hours?\n",
    "\n",
    "Recall that CalTrans are planning to perform construction work, and thus, will have to redirect traffic during the construction period. So, the probability mass function you plotted in the previous question reflects the probability mass function of the number of cars that need to be redirected due to construction if the construction lasted 1.5 hours.\n",
    "\n",
    "The duration of the construction is uncertain, and CalTrans says it is possible that the construction could last up to 2 hours.\n",
    "\n",
    "<font color='red'>**Question 4.**</font> Plot the PMF of the number of cars that need to be redirected if the construction takes 2 hours instead of 1.5 hours. When calculating the PMF, calculate it at all possible values between 0 and 200 (similar to before). After generating the plot, right click on it and click 'Save image as' to download your figure as an image. Upload your figure to bCourses using the instructions there."
   ]
  },
  {
   "cell_type": "code",
   "execution_count": null,
   "metadata": {},
   "outputs": [],
   "source": [
    "# plot the PMF of the number of cars if construction lasts 2 hours\n",
    "\n",
    "..."
   ]
  },
  {
   "cell_type": "markdown",
   "metadata": {},
   "source": [
    "<font color='red'>**Question 5.**</font> How does the distribution of the number of cars that need to be redirected change when the construction time is extended from 1.5 to 2 hours? Select your answer(s) from the options in bCourses."
   ]
  },
  {
   "cell_type": "markdown",
   "metadata": {},
   "source": [
    "### Cumulative Distribution Function\n",
    "\n",
    "We can also use `poisson.cdf(k, mu, loc)` to calculate and plot the cumulative distribution function of a Poisson distribution. So, we simply need to create an array for the possible values of the number of cars, calculate the cumulative distribution function at all of the possible values of the number of cars, and then plot them. Read and run the code cell below to understand how to plot a cumulative distribution function.\n",
    "\n",
    "The code below is just an EXAMPLE, and has nothing to do with the number of cars problem."
   ]
  },
  {
   "cell_type": "code",
   "execution_count": null,
   "metadata": {},
   "outputs": [],
   "source": [
    "# Example CDF plot\n",
    "# This is just an EXAMPLE, and has nothing to do with the number of cars\n",
    "\n",
    "# Create an array for the possible values of the random variable\n",
    "# Recall that np.arange(start, stop, step) returns values within the half-open interval [start, stop),\n",
    "# with spacing between the values given by step: [start, start+step, start+2*step, ..., stop-step].\n",
    "k = np.arange(0, 6, 1)\n",
    "\n",
    "# Define the input parameter based on the documentation of scipy.stats.poisson and any given input\n",
    "mu = 1\n",
    "\n",
    "# Plot the CDF using solid line\n",
    "# Remember that CDF is defined for ALL real numbers, and not only possible values of the random variable\n",
    "# We said that for a discrete distribution, the CDF will look like a step function\n",
    "# In Lab 03, we plotted the CDF of a discrete distribution using horizontal lines\n",
    "# However in this problem, we have many possible values of x, and a step function will look confusing\n",
    "# Therefore, we will plot the CDF using a circle symbols connected with a dashed line for illustration ONLY\n",
    "# specify maerkersize = 4 (this controls the size of the points)\n",
    "plt.plot(k, poisson.cdf(k, mu),'--o', markersize=4)\n",
    "\n",
    "# Label the axes and add a title\n",
    "plt.xlabel('x-axis label')\n",
    "plt.ylabel('y-axis label')\n",
    "plt.title('Title')\n",
    "\n",
    "# specify y-axis limits\n",
    "plt.ylim(0,1.1)\n",
    "\n",
    "# Display the plot\n",
    "plt.tight_layout()\n",
    "plt.show()"
   ]
  },
  {
   "cell_type": "markdown",
   "metadata": {},
   "source": [
    "<font color='red'>**Question 6.**</font> Plot the CDF of the number of cars that are expected to passing on one lane during a duration of 1.5 hours. From the options in the bCourses quiz, which plot matches your cumulative distribution function plot?\n",
    "\n",
    "Copy and paste the code from above to plot the cumulative distribution function of the number of cars passing on one lane at 11pm on a weekday during **1.5 hours** (middle value of the estimate provided by CalTrans of 1 to 2 hours).\n",
    "\n",
    "For this plot, create an array between 0 and 200 using the appropriate step based on the possible values the number of cars can take.\n",
    "\n",
    "Make sure to calculate the input parameter `mu` correctly based on the documentation of `scipy.stats.poisson`. Recall that the average rate is 1.2 cars per minute and we want the cumulative distribution function over a duration of 1.5 hours."
   ]
  },
  {
   "cell_type": "code",
   "execution_count": null,
   "metadata": {},
   "outputs": [],
   "source": [
    "# plot the CDF of the number of cars if construction lasts 1.5 hours\n",
    "\n",
    "..."
   ]
  },
  {
   "cell_type": "markdown",
   "metadata": {},
   "source": [
    "### Probability Calculations\n",
    "\n",
    "There are different ways to calculate probabilities of a Poisson distribution using `scipy.stats.poisson`.\n",
    "\n",
    "<font color='red'>**Question 7.**</font> For a Poisson probability mass function with `mu=1` (not the cars problem), which of the following are appropriate methods to calculate $P(x>3)$? For this example, assume 999 represents $\\infty$. Select your answer(s) from the options in bCourses.\n",
    "\n",
    "**The order of the options might be different in bCourses, so read the options there carefully.**\n",
    "\n",
    "**Recall that `np.arange(start, stop, step)` returns values within the half-open interval [start, stop), with spacing between the values given by step: [start, start+step, start+2*step, ..., stop-step].**\n",
    "\n",
    "1. `1 - poisson.cdf(3, mu=1)`\n",
    "3. `1 - poisson.cdf(4, mu=1)`\n",
    "4. `sum(poisson.pmf(np.arange(3,1000,1), mu=1))`\n",
    "5. `sum(poisson.pmf(np.arange(4,1000,1), mu=1))`\n",
    "5. `1-sum(poisson.pmf(np.arange(0,2,1), mu=1))`\n",
    "5. `1-sum(poisson.pmf(np.arange(0,3,1), mu=1))`\n",
    "5. `1-sum(poisson.pmf(np.arange(0,4,1), mu=1))`"
   ]
  },
  {
   "cell_type": "code",
   "execution_count": null,
   "metadata": {},
   "outputs": [],
   "source": [
    "# Write any code, if needed, below\n",
    "\n",
    "..."
   ]
  },
  {
   "cell_type": "markdown",
   "metadata": {},
   "source": [
    "The project manager is worried that if there are more than 130 cars to be redirected, a large back up will develop on the highway, which will cause delays and might cause traffic accidents.\n",
    "\n",
    "<font color='red'>**Question 8.**</font> What is the probability that more than 130 cars will need to be redirected if the construction project takes 1.5 hours? Recall that the average rate is 1.2 cars per minute. If needed, assume 999 represents $\\infty$. Add your answer in the bCourses quiz."
   ]
  },
  {
   "cell_type": "code",
   "execution_count": null,
   "metadata": {},
   "outputs": [],
   "source": [
    "# Add your code below\n",
    "\n",
    "..."
   ]
  },
  {
   "cell_type": "markdown",
   "metadata": {},
   "source": [
    "<font color='red'>**Question 9.**</font> What is the probability that more than 130 cars will need to be redirected if the construction project takes 2 hours? If needed, assume 999 represents $\\infty$. Add your answer in the bCourses quiz."
   ]
  },
  {
   "cell_type": "code",
   "execution_count": null,
   "metadata": {},
   "outputs": [],
   "source": [
    "# Add your code below\n",
    "\n",
    "..."
   ]
  },
  {
   "cell_type": "markdown",
   "metadata": {},
   "source": [
    "## Time Between Car Arrivals\n",
    "\n",
    "Two CalTrans employees observing the construction being done are watching the cars passing, and wonder when the next car will arrive. There are no cars in the lane when they begin their timer, and we can assume the time between successive cars $Y$ can be modeled by an exponential distribution.\n",
    "\n",
    "\n",
    "We can use `scipy.stats.expon` to perform calculations for an exponential distribution in Python. Read the documentation for `scipy.stats.expon` [here](https://docs.scipy.org/doc/scipy/reference/generated/scipy.stats.expon.html). \n",
    "\n",
    "The syntax of the probability density function is `expon.pdf(x, loc, scale)` and so on (scroll to the bottom of the link above to see all methods that can be used with `scipy.stats.expon`.)\n",
    "\n",
    "Similar to the `scipy.stats.Poisson` the input `loc` can be ignored (the default is `loc=0`).\n",
    "\n",
    "The input `scale` is the parameter of the distribution. Read more about it to answer the next question.\n",
    "\n",
    "<font color='red'>**Question 10.**</font> Based on the documentation of `scipy.stats.expon`, how is the input `scale` related to the rate parameter $\\lambda$ that we defined in the lecture as the input of an exponential distribution? Select your answer from the options in bCourses."
   ]
  },
  {
   "cell_type": "markdown",
   "metadata": {},
   "source": [
    "### Probability Density Function\n",
    "\n",
    "We can plot the probability density function of an exponential distribution using `expon.pdf(x, scale)`. Read and run the code cell below to understand how to plot a probability density function.\n",
    "\n",
    "The code below is just an EXAMPLE, and has nothing to do with the number of cars problem."
   ]
  },
  {
   "cell_type": "code",
   "execution_count": null,
   "metadata": {},
   "outputs": [],
   "source": [
    "# Example PDF plot\n",
    "# This is just an EXAMPLE, and has nothing to do with the number of cars\n",
    "\n",
    "# Create an array for the possible values of the random variable\n",
    "# Exponential distributions are continuous\n",
    "# So, we need to define x values with a small increment (0.01 for example), to get a smooth curve\n",
    "# Recall that np.linspace(start, stop, n) generates n equally spaced values within the interval [start, stop]\n",
    "# [start, start + (stop-start)/(n-1), start + 2*(stop-start)/(n-1), ..., stop]\n",
    "x = np.linspace(0, 10, 100)\n",
    "\n",
    "# Define the input parameter based on the documentation of scipy.stats.expon and any given input\n",
    "scale = .5\n",
    "\n",
    "# Plot the PDF using a line\n",
    "# This is a continuous random variable, so it is OK to plot the PDF, CDF, etc. using a solid line\n",
    "plt.plot(x, expon.pdf(x, scale=scale))\n",
    "\n",
    "# Label the axes and add a title\n",
    "plt.xlabel('x-axis label')\n",
    "plt.ylabel('y-axis label')\n",
    "plt.title('Title')\n",
    "\n",
    "# specify x-axis and y-axis limits\n",
    "plt.ylim(0,2.1)\n",
    "plt.xlim(0,10)\n",
    "\n",
    "# Display the plot\n",
    "plt.tight_layout()\n",
    "plt.show()"
   ]
  },
  {
   "cell_type": "markdown",
   "metadata": {},
   "source": [
    "<font color='red'>**Question 11.**</font> Plot the PDF of the time between successive cars during construction, which can be modeled using an exponential distribution. From the options in the bCourses quiz, which plot matches your probability density function plot?\n",
    " \n",
    "Recall that the average rate of the number of cars passing on one lane at 11pm on a weekday is 1.2 cars per minute."
   ]
  },
  {
   "cell_type": "code",
   "execution_count": null,
   "metadata": {},
   "outputs": [],
   "source": [
    "# Plot PDF for time between car arrivals\n",
    "\n",
    "..."
   ]
  },
  {
   "cell_type": "markdown",
   "metadata": {},
   "source": [
    "### Probability Calculations\n",
    "\n",
    "We can calculate probabilities form an exponential distribution using `Python`. However, not all the methods that could be used to calculate probabilities for a Poisson distribution (refer to Question 7) are appropriate in this case. Why? Exponential distributions are continuous, unlike Poisson distributions, which are discrete. However, we can still use some of the same methods.\n",
    "\n",
    "The two CalTrans employees observing the construction being done started a time to record the time until the next car arrives. There are no cars in the lane when they begin their timer.\n",
    "\n",
    "Perform any calculations using methods like `expon.pdf(x, loc, scale)`, `expon.cdf(x, loc, scale)`, etc.\n",
    "\n",
    "<font color='red'>**Question 12.1.**</font> What is the probability that the next car will arrive exactly 1 minute after starting the timer? Select your answer from the options in bCourses.\n",
    "\n",
    "<font color='red'>**Question 12.2.**</font> What is the probability that the next car will arrive more than 2 minutes after starting the timer? Select your answer from the options in bCourses."
   ]
  },
  {
   "cell_type": "code",
   "execution_count": null,
   "metadata": {},
   "outputs": [],
   "source": [
    "# compute any probabilities here\n",
    "\n",
    "..."
   ]
  },
  {
   "cell_type": "markdown",
   "metadata": {},
   "source": [
    "## What if No Cars Arrive Within 5 Minutes?\n",
    "\n",
    "After 5 minutes from starting the timer, no cars have passed by yet. One of the CalTrans employees tells the other that because they have not seen any cars for 5 minutes, there is a higher chance than usual of a car passing by in the next 30 seconds. \n",
    "\n",
    "<font color='red'>**Question 13.**</font> Is the employee right? Select your answer from the options in bCourses."
   ]
  },
  {
   "cell_type": "markdown",
   "metadata": {},
   "source": [
    "## Time Until Fifth Car Arrival\n",
    "\n",
    "<font color='red'>**Question 14.**</font> A total of five cars happened to arrive after one another after starting the timer. What distribution is appropriate for modeling the time until the fifth car arrives? Select your answer from the options in bCourses."
   ]
  },
  {
   "cell_type": "markdown",
   "metadata": {},
   "source": [
    "## Construction Disruption\n",
    "\n",
    "The construction project was disrupted and is now expected to last more than 2 hours, which will very likely cause a large back up to develop on the highway, potentially leading to accidents. \n",
    "\n",
    "The construction manager wants to request extra employees, but she is in the field and does not have access to the schedule that indicates which employees are on call that day. In total, there are **47 employees** who were not on the site that day, out of which only **11 are on call**.  \n",
    "\n",
    "<font color='red'>**Question 15.**</font> Suppose the manager randomly calls **7** employees to ask them to assist in the field. Let $Z$ represent the number of **unavailable** employees (those not on call) from the ones she called. What distribution is appropriate for modeling the random variable $Z$? Select your answer from the options in bCourses."
   ]
  },
  {
   "cell_type": "markdown",
   "metadata": {},
   "source": [
    "## Numerical Summaries\n",
    "\n",
    "In the lecture, we derived equations for the expected value and variance of different common distributions. Instead of doing manual calculations, we can simply get these values using `Python`. For example, we can get the expected value of a random variable $W \\sim Poisson(mu)$ using `poisson.mean(mu, loc=0)`, and likewise to get the median `poisson.median(mu, loc=0)`, variance `poisson.var(mu, loc=0)`, and standard deviation `poisson.std(mu, loc=0)`.\n",
    "\n",
    "Read the documentation of the distribution that you selected in Question 15 for $Z$. Make sure you understand the inputs for this distribution, which might use different symbols or be different from the ones we defined in the lecture. A list of the documentation of the different distributions can be found below (only read the one that you selected for $Z$):\n",
    "\n",
    " [`scipy.stats.binom`](https://docs.scipy.org/doc/scipy/reference/generated/scipy.stats.binom.html)\n",
    "  [`scipy.stats.hypergeom`](https://docs.scipy.org/doc/scipy/reference/generated/scipy.stats.hypergeom.html)\n",
    "   [`scipy.stats.expon`](https://docs.scipy.org/doc/scipy/reference/generated/scipy.stats.expon.html)\n",
    "    [`scipy.stats.gamma`](https://docs.scipy.org/doc/scipy/reference/generated/scipy.stats.gamma.html)\n",
    "     [`scipy.stats.norm`](https://docs.scipy.org/doc/scipy/reference/generated/scipy.stats.norm.html)\n",
    "     [`scipy.stats.nbinom`](https://docs.scipy.org/doc/scipy/reference/generated/scipy.stats.nbinom.html)\n",
    "     [`scipy.stats.geom`](https://docs.scipy.org/doc/scipy/reference/generated/scipy.stats.geom.html)\n",
    "     \n",
    "**For the next 3 questions, you should use the methods of the selected distribution to get the numerical summaries (e.g., `poisson.mean(mu, loc=0)`). If you use any other method (such as hand calculation or writing the equation yourself in `Python`), we will remove any credit to these questions, even if your answers are correct. You are still encouraged to use hand calculations to verify your answers.**\n",
    "\n",
    "\n",
    "<font color='red'>**Question 16.**</font> What is the expected value of the number of **unavailable** employees from the sample of 7? Add your answer in the bCourses quiz.\n",
    "\n",
    "<font color='red'>**Question 17.**</font> What is the median of the number of **unavailable** employees from the sample of 7? Add your answer in the bCourses quiz.\n",
    "\n",
    "<font color='red'>**Question 18.**</font> What is the standard deviation of the number of **unavailable** employees from the sample of 7? Add your answer in the bCourses quiz."
   ]
  },
  {
   "cell_type": "code",
   "execution_count": null,
   "metadata": {
    "scrolled": true
   },
   "outputs": [],
   "source": [
    "# Add your code below\n",
    "\n",
    "..."
   ]
  },
  {
   "cell_type": "markdown",
   "metadata": {},
   "source": [
    "## Submit your work!\n",
    "\n",
    "<font color='red'>**Question 19.** </font> Submit your PDF file.\n",
    "\n",
    "I recommend that you save your .ipynb file and keep a copy of it so that you can refer to it in the future (e.g., when working on the project). \n",
    "\n",
    "Once done with answering ALL questions and you are ready to submit the quiz, follow these steps:\n",
    "\n",
    "1. Run all cells in the notebook. You can do this by going to Cell > Run All. This makes sure that all your visuals and answers show up in the file you submit.\n",
    "\n",
    "2. Then, go to \"File > Download as > PDF via LaTex(.pdf)\" to generate a PDF file or PDF via HTML(.html). Name the PDF file with your last name \"Lastname.pdf\". Even if you click on PDF via HTML(.html), make sure that the downloaded file is '.pdf'.\n",
    "\n",
    "3. If you have trouble generating the PDF file from Jupyter notebook, use [datahub.berkeley.edu](http://datahub.berkeley.edu). Log in with your CalNet credentials. Upload the ipynb file with your outputs and results to Juptrer. Then follow step 2.\n",
    "\n",
    "4. Upload the PDF file to the bCourses quiz (more instructions there).\n",
    "\n",
    "\n",
    "**Not submitting a PDF file will result in a grade of 0 on this lab assignment.**\n",
    "**You will also receive a 0 if your answers to this quiz are inconsistent with your PDF.**"
   ]
  }
 ],
 "metadata": {
  "celltoolbar": "原始单元格格式",
  "kernelspec": {
   "display_name": "Python 3 (ipykernel)",
   "language": "python",
   "name": "python3"
  },
  "language_info": {
   "codemirror_mode": {
    "name": "ipython",
    "version": 3
   },
   "file_extension": ".py",
   "mimetype": "text/x-python",
   "name": "python",
   "nbconvert_exporter": "python",
   "pygments_lexer": "ipython3",
   "version": "3.9.13"
  }
 },
 "nbformat": 4,
 "nbformat_minor": 4
}
